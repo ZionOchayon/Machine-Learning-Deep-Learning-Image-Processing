{
  "nbformat": 4,
  "nbformat_minor": 0,
  "metadata": {
    "colab": {
      "provenance": [],
      "include_colab_link": true
    },
    "kernelspec": {
      "name": "python3",
      "display_name": "Python 3"
    },
    "language_info": {
      "name": "python"
    }
  },
  "cells": [
    {
      "cell_type": "markdown",
      "metadata": {
        "id": "view-in-github",
        "colab_type": "text"
      },
      "source": [
        "<a href=\"https://colab.research.google.com/github/ZionOchayon/Machine-Learning-Deep-Learning-Image-Processing/blob/main/Tree_based_calssifiers_RF_XG_Cat.ipynb\" target=\"_parent\"><img src=\"https://colab.research.google.com/assets/colab-badge.svg\" alt=\"Open In Colab\"/></a>"
      ]
    },
    {
      "cell_type": "code",
      "source": [
        "!pip install catboost\n"
      ],
      "metadata": {
        "colab": {
          "base_uri": "https://localhost:8080/"
        },
        "id": "Q6gbM8Jy1jx-",
        "outputId": "676fce4c-6a94-4923-c677-975b714c8231"
      },
      "execution_count": null,
      "outputs": [
        {
          "output_type": "stream",
          "name": "stdout",
          "text": [
            "Requirement already satisfied: catboost in /usr/local/lib/python3.7/dist-packages (1.0.3)\n",
            "Requirement already satisfied: numpy>=1.16.0 in /usr/local/lib/python3.7/dist-packages (from catboost) (1.19.5)\n",
            "Requirement already satisfied: scipy in /usr/local/lib/python3.7/dist-packages (from catboost) (1.4.1)\n",
            "Requirement already satisfied: plotly in /usr/local/lib/python3.7/dist-packages (from catboost) (4.4.1)\n",
            "Requirement already satisfied: matplotlib in /usr/local/lib/python3.7/dist-packages (from catboost) (3.2.2)\n",
            "Requirement already satisfied: six in /usr/local/lib/python3.7/dist-packages (from catboost) (1.15.0)\n",
            "Requirement already satisfied: graphviz in /usr/local/lib/python3.7/dist-packages (from catboost) (0.10.1)\n",
            "Requirement already satisfied: pandas>=0.24.0 in /usr/local/lib/python3.7/dist-packages (from catboost) (1.1.5)\n",
            "Requirement already satisfied: pytz>=2017.2 in /usr/local/lib/python3.7/dist-packages (from pandas>=0.24.0->catboost) (2018.9)\n",
            "Requirement already satisfied: python-dateutil>=2.7.3 in /usr/local/lib/python3.7/dist-packages (from pandas>=0.24.0->catboost) (2.8.2)\n",
            "Requirement already satisfied: cycler>=0.10 in /usr/local/lib/python3.7/dist-packages (from matplotlib->catboost) (0.11.0)\n",
            "Requirement already satisfied: pyparsing!=2.0.4,!=2.1.2,!=2.1.6,>=2.0.1 in /usr/local/lib/python3.7/dist-packages (from matplotlib->catboost) (3.0.6)\n",
            "Requirement already satisfied: kiwisolver>=1.0.1 in /usr/local/lib/python3.7/dist-packages (from matplotlib->catboost) (1.3.2)\n",
            "Requirement already satisfied: retrying>=1.3.3 in /usr/local/lib/python3.7/dist-packages (from plotly->catboost) (1.3.3)\n"
          ]
        }
      ]
    },
    {
      "cell_type": "code",
      "execution_count": null,
      "metadata": {
        "id": "hJdRe4d_A6WR"
      },
      "outputs": [],
      "source": [
        "from keras.datasets import mnist\n",
        "from sklearn.linear_model import LogisticRegression\n",
        "from sklearn.metrics import classification_report\n",
        "import matplotlib.pyplot as plt\n",
        "import numpy as np\n",
        "import pandas as pd\n",
        "from sklearn.ensemble import RandomForestClassifier\n",
        "from xgboost import XGBClassifier, plot_tree\n",
        "from catboost import CatBoostClassifier\n",
        "\n",
        "\n"
      ]
    },
    {
      "cell_type": "code",
      "source": [
        "(train_X, train_y), (test_X, test_y) = mnist.load_data()"
      ],
      "metadata": {
        "id": "Q6czwVivBDaN"
      },
      "execution_count": null,
      "outputs": []
    },
    {
      "cell_type": "code",
      "source": [
        "print('X_train: ' + str(train_X.shape))\n",
        "print('Y_train: ' + str(train_y.shape))\n",
        "print('X_test:  '  + str(test_X.shape))\n",
        "print('Y_test:  '  + str(test_y.shape))"
      ],
      "metadata": {
        "colab": {
          "base_uri": "https://localhost:8080/"
        },
        "id": "nze4fiI5BSBl",
        "outputId": "8d6a0941-7a10-4024-fbb6-60c094a014fd"
      },
      "execution_count": null,
      "outputs": [
        {
          "output_type": "stream",
          "name": "stdout",
          "text": [
            "X_train: (60000, 28, 28)\n",
            "Y_train: (60000,)\n",
            "X_test:  (10000, 28, 28)\n",
            "Y_test:  (10000,)\n"
          ]
        }
      ]
    },
    {
      "cell_type": "code",
      "source": [
        "plt.figure(figsize=(20,4))\n",
        "for index, (image, label) in enumerate(zip(train_X[0:5], train_y[0:5])):\n",
        " plt.subplot(1, 5, index + 1)\n",
        " plt.imshow(np.reshape(image, (28,28)), cmap=plt.cm.gray)\n",
        " plt.title('Training: %i\\n' % label, fontsize = 20)"
      ],
      "metadata": {
        "colab": {
          "base_uri": "https://localhost:8080/",
          "height": 283
        },
        "id": "eqnbsvLkBVt1",
        "outputId": "013b3abd-c918-4a74-f0ea-f245d372c72e"
      },
      "execution_count": null,
      "outputs": [
        {
          "output_type": "display_data",
          "data": {
            "image/png": "[encoded data removed]",
            "text/plain": [
              "<Figure size 1440x288 with 5 Axes>"
            ]
          },
          "metadata": {
            "needs_background": "light"
          }
        }
      ]
    },
    {
      "cell_type": "code",
      "source": [
        "flatten_train_X = train_X.reshape(train_X.shape[0],(train_X.shape[1]*train_X.shape[2]))\n",
        "print(flatten_train_X.shape)\n",
        "\n",
        "flatten_test_X = test_X.reshape(test_X.shape[0],(test_X.shape[1]*test_X.shape[2]))\n",
        "print(flatten_test_X.shape)"
      ],
      "metadata": {
        "colab": {
          "base_uri": "https://localhost:8080/"
        },
        "id": "upPtwc_HB8tz",
        "outputId": "bc0aada8-5f4c-4130-ad9b-870d829b2fd7"
      },
      "execution_count": null,
      "outputs": [
        {
          "output_type": "stream",
          "name": "stdout",
          "text": [
            "(60000, 784)\n",
            "(10000, 784)\n"
          ]
        }
      ]
    },
    {
      "cell_type": "code",
      "source": [
        "LR_clf=LogisticRegression().fit(flatten_train_X,train_y)\n"
      ],
      "metadata": {
        "colab": {
          "base_uri": "https://localhost:8080/"
        },
        "id": "JvOxvpBcBdr9",
        "outputId": "9a8854f9-9aa6-4f6b-9617-eece9262896b"
      },
      "execution_count": null,
      "outputs": [
        {
          "output_type": "stream",
          "name": "stderr",
          "text": [
            "/usr/local/lib/python3.7/dist-packages/sklearn/linear_model/_logistic.py:818: ConvergenceWarning: lbfgs failed to converge (status=1):\n",
            "STOP: TOTAL NO. of ITERATIONS REACHED LIMIT.\n",
            "\n",
            "Increase the number of iterations (max_iter) or scale the data as shown in:\n",
            "    https://scikit-learn.org/stable/modules/preprocessing.html\n",
            "Please also refer to the documentation for alternative solver options:\n",
            "    https://scikit-learn.org/stable/modules/linear_model.html#logistic-regression\n",
            "  extra_warning_msg=_LOGISTIC_SOLVER_CONVERGENCE_MSG,\n"
          ]
        }
      ]
    },
    {
      "cell_type": "code",
      "source": [
        "LR_train_predict=LR_clf.predict(flatten_train_X)\n",
        "print(classification_report(LR_train_predict,train_y))"
      ],
      "metadata": {
        "colab": {
          "base_uri": "https://localhost:8080/"
        },
        "id": "3WNxSh9yKWZY",
        "outputId": "3ce52d98-6e3e-4aee-eb05-75c1f0132ac4"
      },
      "execution_count": null,
      "outputs": [
        {
          "output_type": "stream",
          "name": "stdout",
          "text": [
            "              precision    recall  f1-score   support\n",
            "\n",
            "           0       0.97      0.97      0.97      5973\n",
            "           1       0.98      0.96      0.97      6838\n",
            "           2       0.91      0.93      0.92      5840\n",
            "           3       0.91      0.92      0.91      6089\n",
            "           4       0.94      0.94      0.94      5851\n",
            "           5       0.88      0.91      0.90      5274\n",
            "           6       0.97      0.95      0.96      5992\n",
            "           7       0.94      0.95      0.95      6207\n",
            "           8       0.90      0.89      0.90      5933\n",
            "           9       0.92      0.91      0.92      6003\n",
            "\n",
            "    accuracy                           0.93     60000\n",
            "   macro avg       0.93      0.93      0.93     60000\n",
            "weighted avg       0.93      0.93      0.93     60000\n",
            "\n"
          ]
        }
      ]
    },
    {
      "cell_type": "code",
      "source": [
        "LR_test_predict=LR_clf.predict(flatten_test_X)\n",
        "print(classification_report(LR_test_predict,test_y))"
      ],
      "metadata": {
        "colab": {
          "base_uri": "https://localhost:8080/"
        },
        "id": "1e80xay_L_fY",
        "outputId": "c69d5597-395c-472f-b0fd-c11a0f90ee26"
      },
      "execution_count": null,
      "outputs": [
        {
          "output_type": "stream",
          "name": "stdout",
          "text": [
            "              precision    recall  f1-score   support\n",
            "\n",
            "           0       0.98      0.95      0.97      1009\n",
            "           1       0.98      0.97      0.97      1149\n",
            "           2       0.90      0.93      0.91       996\n",
            "           3       0.91      0.90      0.91      1014\n",
            "           4       0.93      0.93      0.93       974\n",
            "           5       0.87      0.90      0.89       859\n",
            "           6       0.95      0.94      0.95       965\n",
            "           7       0.93      0.93      0.93      1021\n",
            "           8       0.89      0.87      0.88      1002\n",
            "           9       0.91      0.91      0.91      1011\n",
            "\n",
            "    accuracy                           0.93     10000\n",
            "   macro avg       0.92      0.92      0.92     10000\n",
            "weighted avg       0.93      0.93      0.93     10000\n",
            "\n"
          ]
        }
      ]
    },
    {
      "cell_type": "markdown",
      "source": [
        "[Random forest](https://scikit-learn.org/stable/modules/generated/sklearn.ensemble.RandomForestClassifier.html)"
      ],
      "metadata": {
        "id": "_xnLVEs9QOrp"
      }
    },
    {
      "cell_type": "code",
      "source": [
        "RFmodel = RandomForestClassifier(50, max_depth=15, max_features=15)\n",
        "RFmodel.fit(flatten_train_X, train_y)\n"
      ],
      "metadata": {
        "colab": {
          "base_uri": "https://localhost:8080/"
        },
        "id": "4BED7S1KOc0z",
        "outputId": "75b07e07-e965-413b-b3fd-b8734ef1e895"
      },
      "execution_count": null,
      "outputs": [
        {
          "output_type": "execute_result",
          "data": {
            "text/plain": [
              "RandomForestClassifier(max_depth=15, max_features=15, n_estimators=50)"
            ]
          },
          "metadata": {},
          "execution_count": 35
        }
      ]
    },
    {
      "cell_type": "code",
      "source": [
        "RF_train_predict=RFmodel.predict(flatten_train_X)\n",
        "print(classification_report(RF_train_predict,train_y))"
      ],
      "metadata": {
        "colab": {
          "base_uri": "https://localhost:8080/"
        },
        "id": "KQMYo5J7PmS0",
        "outputId": "b7068b4a-4798-4409-d681-26fc995cc507"
      },
      "execution_count": null,
      "outputs": [
        {
          "output_type": "stream",
          "name": "stdout",
          "text": [
            "              precision    recall  f1-score   support\n",
            "\n",
            "           0       1.00      1.00      1.00      5926\n",
            "           1       1.00      0.99      1.00      6777\n",
            "           2       1.00      1.00      1.00      5940\n",
            "           3       0.99      1.00      1.00      6099\n",
            "           4       0.99      1.00      1.00      5821\n",
            "           5       1.00      1.00      1.00      5417\n",
            "           6       1.00      1.00      1.00      5917\n",
            "           7       1.00      0.99      0.99      6286\n",
            "           8       1.00      1.00      1.00      5838\n",
            "           9       0.99      0.99      0.99      5979\n",
            "\n",
            "    accuracy                           1.00     60000\n",
            "   macro avg       1.00      1.00      1.00     60000\n",
            "weighted avg       1.00      1.00      1.00     60000\n",
            "\n"
          ]
        }
      ]
    },
    {
      "cell_type": "code",
      "source": [
        "RF_test_predict=RFmodel.predict(flatten_test_X)\n",
        "print(classification_report(RF_test_predict,test_y))"
      ],
      "metadata": {
        "colab": {
          "base_uri": "https://localhost:8080/"
        },
        "id": "UAa6rr7sPvxb",
        "outputId": "7d4aa363-db35-420b-fc74-a556f37271c6"
      },
      "execution_count": null,
      "outputs": [
        {
          "output_type": "stream",
          "name": "stdout",
          "text": [
            "              precision    recall  f1-score   support\n",
            "\n",
            "           0       0.99      0.97      0.98      1002\n",
            "           1       0.99      0.99      0.99      1140\n",
            "           2       0.97      0.96      0.96      1046\n",
            "           3       0.96      0.96      0.96      1006\n",
            "           4       0.96      0.97      0.96       971\n",
            "           5       0.96      0.97      0.96       880\n",
            "           6       0.97      0.97      0.97       965\n",
            "           7       0.95      0.97      0.96      1009\n",
            "           8       0.94      0.96      0.95       957\n",
            "           9       0.94      0.93      0.94      1024\n",
            "\n",
            "    accuracy                           0.96     10000\n",
            "   macro avg       0.96      0.96      0.96     10000\n",
            "weighted avg       0.96      0.96      0.96     10000\n",
            "\n"
          ]
        }
      ]
    },
    {
      "cell_type": "markdown",
      "source": [
        "[XGBoost](https://xgboost.readthedocs.io/en/stable/python/python_api.html)"
      ],
      "metadata": {
        "id": "ZW9R3GZ8Rfy6"
      }
    },
    {
      "cell_type": "code",
      "source": [
        "#XGBmodel = XGBClassifier()\n",
        "#XGBmodel.fit(flatten_train_X, train_y)"
      ],
      "metadata": {
        "id": "wEu6VY72O_7O"
      },
      "execution_count": null,
      "outputs": []
    },
    {
      "cell_type": "code",
      "source": [
        "#XGB_train_predict=XGBmodel.predict(flatten_train_X)\n",
        "#print(classification_report(XGB_train_predict,train_y))"
      ],
      "metadata": {
        "id": "hUWk5pczPCmz"
      },
      "execution_count": null,
      "outputs": []
    },
    {
      "cell_type": "code",
      "source": [
        "#XGB_test_predict=XGBmodel.predict(flatten_test_X)\n",
        "#print(classification_report(XGB_test_predict,test_y))"
      ],
      "metadata": {
        "id": "hZhgTC1mQwoa"
      },
      "execution_count": null,
      "outputs": []
    },
    {
      "cell_type": "code",
      "source": [
        "# Initialize CatBoostClassifier\n",
        "CatBoostModel = CatBoostClassifier(iterations=20,\n",
        "                          learning_rate=1,\n",
        "                          depth=2)\n",
        "# Fit model\n",
        "CatBoostModel.fit(flatten_train_X, train_y)\n",
        "# Get predictions on train\n",
        "Cat_train_predict = CatBoostModel.predict(flatten_train_X)\n",
        "print(classification_report(Cat_train_predict,train_y))\n",
        "\n",
        "# Get predictions on test\n",
        "Cat_test_predict = CatBoostModel.predict(flatten_test_X)\n",
        "print(classification_report(Cat_test_predict,test_y))"
      ],
      "metadata": {
        "id": "curB064Z0h6E"
      },
      "execution_count": null,
      "outputs": []
    },
    {
      "cell_type": "code",
      "source": [
        "Train_accuracies=[]\n",
        "Test_accuracies=[]\n",
        "Num_iter=Num_iter=list(range(1,5))+list(range(10,100,5))\n",
        "\n",
        "for i in Num_iter:\n",
        "\n",
        "      # Initialize CatBoostClassifier\n",
        "      CatBoostModel = CatBoostClassifier(iterations=i,\n",
        "                          learning_rate=1,\n",
        "                          depth=2)\n",
        "      # Fit model\n",
        "      CatBoostModel.fit(flatten_train_X, train_y)\n",
        "      # Get predictions on train\n",
        "      Cat_train_predict = CatBoostModel.predict(flatten_train_X)\n",
        "      Cat_train_report=classification_report(Cat_train_predict,train_y, output_dict=True)\n",
        "      #print(Cat_train_report)\n",
        "      Train_accuracies.append(Cat_train_report['accuracy'])\n",
        "\n",
        "      # Get predictions on test\n",
        "      Cat_test_predict = CatBoostModel.predict(flatten_test_X)\n",
        "      Cat_test_report=classification_report(Cat_test_predict,test_y, output_dict=True)\n",
        "      #print(Cat_test_report)\n",
        "      Test_accuracies.append(Cat_test_report['accuracy'])\n",
        "\n",
        "\n"
      ],
      "metadata": {
        "id": "IMWoHO9X4ysM"
      },
      "execution_count": null,
      "outputs": []
    },
    {
      "cell_type": "code",
      "source": [
        "plt.figure()\n",
        "plt.plot(Num_iter,Train_accuracies,label = \"Train accuracy\")\n",
        "plt.plot(Num_iter,Test_accuracies,label = \"Test accuracy\")\n",
        "plt.xlabel(\"iterations\")\n",
        "plt.ylabel(\"accuracy\")\n",
        "plt.title(\"Catboost iterations vs. accuracy\")\n",
        "plt.legend()"
      ],
      "metadata": {
        "colab": {
          "base_uri": "https://localhost:8080/",
          "height": 312
        },
        "id": "eZUFtFa0NwQM",
        "outputId": "642334ea-0d94-4716-f1fc-803510244ffe"
      },
      "execution_count": null,
      "outputs": [
        {
          "output_type": "execute_result",
          "data": {
            "text/plain": [
              "<matplotlib.legend.Legend at 0x7f3442b48710>"
            ]
          },
          "metadata": {},
          "execution_count": 55
        },
        {
          "output_type": "display_data",
          "data": {
            "image/png": "[encoded data removed]",
            "text/plain": [
              "<Figure size 432x288 with 1 Axes>"
            ]
          },
          "metadata": {
            "needs_background": "light"
          }
        }
      ]
    },
    {
      "cell_type": "code",
      "source": [
        "Accuracy_shortist=[40,60,80,95]\n",
        "for i in Accuracy_shortist:\n",
        "    print('Accuracy after {} iterations:'.format(i),Test_accuracies[Num_iter.index(i)])\n"
      ],
      "metadata": {
        "colab": {
          "base_uri": "https://localhost:8080/"
        },
        "id": "OxxxuXirvJAY",
        "outputId": "efc0f540-02b2-451b-9363-7343e429b669"
      },
      "execution_count": null,
      "outputs": [
        {
          "output_type": "stream",
          "name": "stdout",
          "text": [
            "Accuracy after 40 iterations: 0.8856\n",
            "Accuracy after 60 iterations: 0.8941\n",
            "Accuracy after 80 iterations: 0.9017\n",
            "Accuracy after 95 iterations: 0.9055\n"
          ]
        }
      ]
    },
    {
      "cell_type": "code",
      "source": [
        "Train_accuracies_depth=[]\n",
        "Test_accuracies_depth=[]\n",
        "Depths=list(range(4,10))\n",
        "\n",
        "for i in Depths:\n",
        "\n",
        "      # Initialize CatBoostClassifier\n",
        "      CatBoostModel = CatBoostClassifier(iterations=80,\n",
        "                          learning_rate=1,\n",
        "                          depth=i)\n",
        "      # Fit model\n",
        "      CatBoostModel.fit(flatten_train_X, train_y)\n",
        "      # Get predictions on train\n",
        "      Cat_train_predict = CatBoostModel.predict(flatten_train_X)\n",
        "      Cat_train_report=classification_report(Cat_train_predict,train_y, output_dict=True)\n",
        "      #print(Cat_train_report)\n",
        "      Train_accuracies_depth.append(Cat_train_report['accuracy'])\n",
        "\n",
        "      # Get predictions on test\n",
        "      Cat_test_predict = CatBoostModel.predict(flatten_test_X)\n",
        "      Cat_test_report=classification_report(Cat_test_predict,test_y, output_dict=True)\n",
        "      #print(Cat_test_report)\n",
        "      Test_accuracies_depth.append(Cat_test_report['accuracy'])\n",
        "\n"
      ],
      "metadata": {
        "colab": {
          "base_uri": "https://localhost:8080/"
        },
        "id": "o_C1xJIhwZjv",
        "outputId": "0a6ff3f2-0e71-4e04-f7b5-1512b0796d20"
      },
      "execution_count": null,
      "outputs": [
        {
          "output_type": "stream",
          "name": "stderr",
          "text": [
            "Custom logger is already specified. Specify more than one logger at same time is not thread safe."
          ]
        },
        {
          "output_type": "stream",
          "name": "stdout",
          "text": [
            "0:\tlearn: 1.7829232\ttotal: 1.46s\tremaining: 1m 55s\n",
            "1:\tlearn: 1.4181544\ttotal: 2.46s\tremaining: 1m 35s\n",
            "2:\tlearn: 1.1312061\ttotal: 3.78s\tremaining: 1m 37s\n",
            "3:\tlearn: 0.9406838\ttotal: 5.14s\tremaining: 1m 37s\n",
            "4:\tlearn: 0.8267387\ttotal: 6.2s\tremaining: 1m 33s\n",
            "5:\tlearn: 0.7489621\ttotal: 7.31s\tremaining: 1m 30s\n",
            "6:\tlearn: 0.6758632\ttotal: 8.18s\tremaining: 1m 25s\n",
            "7:\tlearn: 0.6075085\ttotal: 9.4s\tremaining: 1m 24s\n",
            "8:\tlearn: 0.5731557\ttotal: 10.6s\tremaining: 1m 23s\n",
            "9:\tlearn: 0.5407024\ttotal: 11.5s\tremaining: 1m 20s\n",
            "10:\tlearn: 0.5197519\ttotal: 12.3s\tremaining: 1m 17s\n",
            "11:\tlearn: 0.4960029\ttotal: 13.3s\tremaining: 1m 15s\n",
            "12:\tlearn: 0.4627928\ttotal: 14.4s\tremaining: 1m 14s\n",
            "13:\tlearn: 0.4388875\ttotal: 15.5s\tremaining: 1m 12s\n",
            "14:\tlearn: 0.4199607\ttotal: 16.4s\tremaining: 1m 10s\n",
            "15:\tlearn: 0.4086283\ttotal: 17.3s\tremaining: 1m 9s\n",
            "16:\tlearn: 0.3892442\ttotal: 18.3s\tremaining: 1m 7s\n",
            "17:\tlearn: 0.3767596\ttotal: 19.1s\tremaining: 1m 5s\n",
            "18:\tlearn: 0.3726562\ttotal: 20s\tremaining: 1m 4s\n",
            "19:\tlearn: 0.3620866\ttotal: 21.1s\tremaining: 1m 3s\n",
            "20:\tlearn: 0.3531179\ttotal: 21.9s\tremaining: 1m 1s\n",
            "21:\tlearn: 0.3505369\ttotal: 22.6s\tremaining: 59.6s\n",
            "22:\tlearn: 0.3489011\ttotal: 23.3s\tremaining: 57.7s\n",
            "23:\tlearn: 0.3488400\ttotal: 23.9s\tremaining: 55.9s\n",
            "24:\tlearn: 0.3414051\ttotal: 24.8s\tremaining: 54.5s\n",
            "25:\tlearn: 0.3413126\ttotal: 25.4s\tremaining: 52.8s\n",
            "26:\tlearn: 0.3391130\ttotal: 26.1s\tremaining: 51.3s\n",
            "27:\tlearn: 0.3307994\ttotal: 27.2s\tremaining: 50.5s\n",
            "28:\tlearn: 0.3210440\ttotal: 28.4s\tremaining: 49.9s\n",
            "29:\tlearn: 0.3143825\ttotal: 29.4s\tremaining: 49s\n",
            "30:\tlearn: 0.3105929\ttotal: 30.1s\tremaining: 47.6s\n",
            "31:\tlearn: 0.3090906\ttotal: 30.9s\tremaining: 46.3s\n",
            "32:\tlearn: 0.3052535\ttotal: 31.7s\tremaining: 45.2s\n",
            "33:\tlearn: 0.3002470\ttotal: 32.4s\tremaining: 43.9s\n",
            "34:\tlearn: 0.2955067\ttotal: 33.6s\tremaining: 43.2s\n",
            "35:\tlearn: 0.2946862\ttotal: 34.3s\tremaining: 41.9s\n",
            "36:\tlearn: 0.2946549\ttotal: 34.9s\tremaining: 40.6s\n",
            "37:\tlearn: 0.2945750\ttotal: 35.6s\tremaining: 39.4s\n",
            "38:\tlearn: 0.2937986\ttotal: 36.3s\tremaining: 38.1s\n",
            "39:\tlearn: 0.2925190\ttotal: 37s\tremaining: 37s\n",
            "40:\tlearn: 0.2847499\ttotal: 37.8s\tremaining: 36s\n",
            "41:\tlearn: 0.2792036\ttotal: 38.7s\tremaining: 35s\n",
            "42:\tlearn: 0.2791716\ttotal: 39.4s\tremaining: 33.9s\n",
            "43:\tlearn: 0.2778735\ttotal: 40.3s\tremaining: 33s\n",
            "44:\tlearn: 0.2771796\ttotal: 41s\tremaining: 31.9s\n",
            "45:\tlearn: 0.2754194\ttotal: 41.7s\tremaining: 30.8s\n",
            "46:\tlearn: 0.2751771\ttotal: 42.4s\tremaining: 29.7s\n",
            "47:\tlearn: 0.2736602\ttotal: 43.1s\tremaining: 28.7s\n",
            "48:\tlearn: 0.2697772\ttotal: 43.9s\tremaining: 27.8s\n",
            "49:\tlearn: 0.2625407\ttotal: 44.8s\tremaining: 26.9s\n",
            "50:\tlearn: 0.2612148\ttotal: 45.5s\tremaining: 25.9s\n",
            "51:\tlearn: 0.2605932\ttotal: 46.2s\tremaining: 24.9s\n",
            "52:\tlearn: 0.2592475\ttotal: 46.9s\tremaining: 23.9s\n",
            "53:\tlearn: 0.2572130\ttotal: 47.7s\tremaining: 23s\n",
            "54:\tlearn: 0.2552284\ttotal: 48.5s\tremaining: 22s\n",
            "55:\tlearn: 0.2540086\ttotal: 49.2s\tremaining: 21.1s\n",
            "56:\tlearn: 0.2535250\ttotal: 49.9s\tremaining: 20.1s\n",
            "57:\tlearn: 0.2476029\ttotal: 51s\tremaining: 19.3s\n",
            "58:\tlearn: 0.2463788\ttotal: 51.7s\tremaining: 18.4s\n",
            "59:\tlearn: 0.2456683\ttotal: 52.3s\tremaining: 17.4s\n",
            "60:\tlearn: 0.2446127\ttotal: 53.2s\tremaining: 16.6s\n",
            "61:\tlearn: 0.2443160\ttotal: 53.8s\tremaining: 15.6s\n",
            "62:\tlearn: 0.2408906\ttotal: 54.7s\tremaining: 14.8s\n",
            "63:\tlearn: 0.2406988\ttotal: 55.4s\tremaining: 13.8s\n",
            "64:\tlearn: 0.2406405\ttotal: 56.1s\tremaining: 12.9s\n",
            "65:\tlearn: 0.2400282\ttotal: 56.8s\tremaining: 12s\n",
            "66:\tlearn: 0.2390779\ttotal: 57.5s\tremaining: 11.2s\n",
            "67:\tlearn: 0.2385433\ttotal: 58.1s\tremaining: 10.3s\n",
            "68:\tlearn: 0.2385077\ttotal: 58.8s\tremaining: 9.38s\n",
            "69:\tlearn: 0.2362181\ttotal: 59.6s\tremaining: 8.51s\n",
            "70:\tlearn: 0.2341955\ttotal: 1m\tremaining: 7.67s\n",
            "71:\tlearn: 0.2331713\ttotal: 1m 1s\tremaining: 6.82s\n",
            "72:\tlearn: 0.2319515\ttotal: 1m 2s\tremaining: 5.96s\n",
            "73:\tlearn: 0.2312488\ttotal: 1m 2s\tremaining: 5.1s\n",
            "74:\tlearn: 0.2305736\ttotal: 1m 3s\tremaining: 4.24s\n",
            "75:\tlearn: 0.2298142\ttotal: 1m 4s\tremaining: 3.39s\n",
            "76:\tlearn: 0.2293104\ttotal: 1m 5s\tremaining: 2.54s\n",
            "77:\tlearn: 0.2290829\ttotal: 1m 6s\tremaining: 1.69s\n",
            "78:\tlearn: 0.2281392\ttotal: 1m 6s\tremaining: 846ms\n",
            "79:\tlearn: 0.2274179\ttotal: 1m 7s\tremaining: 0us\n",
            "0:\tlearn: 1.6824592\ttotal: 2.12s\tremaining: 2m 47s\n",
            "1:\tlearn: 1.2522661\ttotal: 3.78s\tremaining: 2m 27s\n",
            "2:\tlearn: 0.9192197\ttotal: 5.57s\tremaining: 2m 23s\n",
            "3:\tlearn: 0.7944254\ttotal: 7.04s\tremaining: 2m 13s\n",
            "4:\tlearn: 0.7015597\ttotal: 8.65s\tremaining: 2m 9s\n",
            "5:\tlearn: 0.6234127\ttotal: 10.2s\tremaining: 2m 5s\n",
            "6:\tlearn: 0.5767990\ttotal: 11.4s\tremaining: 1m 59s\n",
            "7:\tlearn: 0.5232220\ttotal: 13s\tremaining: 1m 57s\n",
            "8:\tlearn: 0.5050540\ttotal: 14.4s\tremaining: 1m 53s\n",
            "9:\tlearn: 0.4763106\ttotal: 15.8s\tremaining: 1m 50s\n",
            "10:\tlearn: 0.4478230\ttotal: 17.3s\tremaining: 1m 48s\n",
            "11:\tlearn: 0.4130554\ttotal: 18.9s\tremaining: 1m 47s\n",
            "12:\tlearn: 0.3959950\ttotal: 20.2s\tremaining: 1m 44s\n",
            "13:\tlearn: 0.3816677\ttotal: 21.3s\tremaining: 1m 40s\n",
            "14:\tlearn: 0.3643323\ttotal: 22.7s\tremaining: 1m 38s\n",
            "15:\tlearn: 0.3575339\ttotal: 23.7s\tremaining: 1m 34s\n",
            "16:\tlearn: 0.3444966\ttotal: 25.1s\tremaining: 1m 32s\n",
            "17:\tlearn: 0.3326224\ttotal: 26.4s\tremaining: 1m 30s\n",
            "18:\tlearn: 0.3252736\ttotal: 27.6s\tremaining: 1m 28s\n",
            "19:\tlearn: 0.3150390\ttotal: 28.8s\tremaining: 1m 26s\n",
            "20:\tlearn: 0.3111728\ttotal: 30s\tremaining: 1m 24s\n",
            "21:\tlearn: 0.3067569\ttotal: 31.4s\tremaining: 1m 22s\n",
            "22:\tlearn: 0.3030124\ttotal: 32.7s\tremaining: 1m 21s\n",
            "23:\tlearn: 0.3009686\ttotal: 33.6s\tremaining: 1m 18s\n",
            "24:\tlearn: 0.2972042\ttotal: 34.7s\tremaining: 1m 16s\n",
            "25:\tlearn: 0.2943206\ttotal: 35.8s\tremaining: 1m 14s\n",
            "26:\tlearn: 0.2936007\ttotal: 36.9s\tremaining: 1m 12s\n",
            "27:\tlearn: 0.2911547\ttotal: 37.9s\tremaining: 1m 10s\n",
            "28:\tlearn: 0.2900883\ttotal: 38.8s\tremaining: 1m 8s\n",
            "29:\tlearn: 0.2886456\ttotal: 39.9s\tremaining: 1m 6s\n",
            "30:\tlearn: 0.2879395\ttotal: 40.8s\tremaining: 1m 4s\n",
            "31:\tlearn: 0.2865038\ttotal: 41.8s\tremaining: 1m 2s\n",
            "32:\tlearn: 0.2804094\ttotal: 42.9s\tremaining: 1m 1s\n",
            "33:\tlearn: 0.2797619\ttotal: 43.9s\tremaining: 59.4s\n",
            "34:\tlearn: 0.2792131\ttotal: 44.8s\tremaining: 57.6s\n",
            "35:\tlearn: 0.2733677\ttotal: 46.2s\tremaining: 56.5s\n",
            "36:\tlearn: 0.2729335\ttotal: 47.1s\tremaining: 54.8s\n",
            "37:\tlearn: 0.2702689\ttotal: 48.2s\tremaining: 53.3s\n",
            "38:\tlearn: 0.2698081\ttotal: 49.3s\tremaining: 51.8s\n",
            "39:\tlearn: 0.2674746\ttotal: 50.5s\tremaining: 50.5s\n",
            "40:\tlearn: 0.2669947\ttotal: 51.5s\tremaining: 49s\n",
            "41:\tlearn: 0.2669479\ttotal: 52.4s\tremaining: 47.4s\n",
            "42:\tlearn: 0.2655767\ttotal: 53.5s\tremaining: 46.1s\n",
            "43:\tlearn: 0.2631008\ttotal: 54.5s\tremaining: 44.6s\n",
            "44:\tlearn: 0.2606287\ttotal: 55.6s\tremaining: 43.3s\n",
            "45:\tlearn: 0.2537272\ttotal: 56.9s\tremaining: 42.1s\n",
            "46:\tlearn: 0.2525976\ttotal: 57.9s\tremaining: 40.6s\n",
            "47:\tlearn: 0.2514948\ttotal: 59.2s\tremaining: 39.5s\n",
            "48:\tlearn: 0.2509414\ttotal: 1m\tremaining: 38s\n",
            "49:\tlearn: 0.2508990\ttotal: 1m 1s\tremaining: 36.6s\n",
            "50:\tlearn: 0.2508610\ttotal: 1m 1s\tremaining: 35.2s\n",
            "51:\tlearn: 0.2496154\ttotal: 1m 2s\tremaining: 33.9s\n",
            "52:\tlearn: 0.2488698\ttotal: 1m 4s\tremaining: 32.6s\n",
            "53:\tlearn: 0.2481953\ttotal: 1m 5s\tremaining: 31.3s\n",
            "54:\tlearn: 0.2471857\ttotal: 1m 6s\tremaining: 30s\n",
            "55:\tlearn: 0.2468802\ttotal: 1m 6s\tremaining: 28.7s\n",
            "56:\tlearn: 0.2461338\ttotal: 1m 7s\tremaining: 27.4s\n",
            "57:\tlearn: 0.2456937\ttotal: 1m 8s\tremaining: 26.1s\n",
            "58:\tlearn: 0.2427003\ttotal: 1m 10s\tremaining: 25s\n",
            "59:\tlearn: 0.2403152\ttotal: 1m 11s\tremaining: 23.8s\n",
            "60:\tlearn: 0.2402792\ttotal: 1m 12s\tremaining: 22.6s\n",
            "61:\tlearn: 0.2387182\ttotal: 1m 13s\tremaining: 21.3s\n",
            "62:\tlearn: 0.2371990\ttotal: 1m 14s\tremaining: 20.1s\n",
            "63:\tlearn: 0.2336138\ttotal: 1m 15s\tremaining: 18.9s\n",
            "64:\tlearn: 0.2329481\ttotal: 1m 16s\tremaining: 17.7s\n",
            "65:\tlearn: 0.2325295\ttotal: 1m 17s\tremaining: 16.5s\n",
            "66:\tlearn: 0.2324877\ttotal: 1m 18s\tremaining: 15.3s\n",
            "67:\tlearn: 0.2318954\ttotal: 1m 19s\tremaining: 14.1s\n",
            "68:\tlearn: 0.2305024\ttotal: 1m 20s\tremaining: 12.9s\n",
            "69:\tlearn: 0.2300116\ttotal: 1m 21s\tremaining: 11.7s\n",
            "70:\tlearn: 0.2287044\ttotal: 1m 23s\tremaining: 10.5s\n",
            "71:\tlearn: 0.2264806\ttotal: 1m 24s\tremaining: 9.37s\n",
            "72:\tlearn: 0.2257719\ttotal: 1m 25s\tremaining: 8.18s\n",
            "73:\tlearn: 0.2250884\ttotal: 1m 26s\tremaining: 7.01s\n",
            "74:\tlearn: 0.2235965\ttotal: 1m 27s\tremaining: 5.84s\n",
            "75:\tlearn: 0.2228904\ttotal: 1m 28s\tremaining: 4.66s\n",
            "76:\tlearn: 0.2226578\ttotal: 1m 29s\tremaining: 3.49s\n",
            "77:\tlearn: 0.2224357\ttotal: 1m 30s\tremaining: 2.32s\n",
            "78:\tlearn: 0.2220294\ttotal: 1m 31s\tremaining: 1.16s\n",
            "79:\tlearn: 0.2187109\ttotal: 1m 33s\tremaining: 0us\n",
            "0:\tlearn: 1.6038736\ttotal: 3.61s\tremaining: 4m 44s\n",
            "1:\tlearn: 1.6095155\ttotal: 7.28s\tremaining: 4m 43s\n",
            "2:\tlearn: 2.8364713\ttotal: 10.9s\tremaining: 4m 38s\n",
            "3:\tlearn: 2.0902556\ttotal: 14.5s\tremaining: 4m 35s\n",
            "4:\tlearn: 1.7555757\ttotal: 18.1s\tremaining: 4m 32s\n",
            "5:\tlearn: 1.4038552\ttotal: 21.7s\tremaining: 4m 27s\n",
            "6:\tlearn: 1.2412643\ttotal: 25.2s\tremaining: 4m 23s\n",
            "7:\tlearn: 1.1366560\ttotal: 28.7s\tremaining: 4m 18s\n",
            "8:\tlearn: 1.0192423\ttotal: 32.3s\tremaining: 4m 14s\n",
            "9:\tlearn: 0.9324198\ttotal: 35.8s\tremaining: 4m 10s\n",
            "10:\tlearn: 0.8582257\ttotal: 39.3s\tremaining: 4m 6s\n",
            "11:\tlearn: 0.8033088\ttotal: 42.8s\tremaining: 4m 2s\n",
            "12:\tlearn: 0.7767630\ttotal: 46.2s\tremaining: 3m 58s\n",
            "13:\tlearn: 0.7331730\ttotal: 49.7s\tremaining: 3m 54s\n",
            "14:\tlearn: 0.7053453\ttotal: 53.2s\tremaining: 3m 50s\n",
            "15:\tlearn: 0.6752418\ttotal: 56.7s\tremaining: 3m 46s\n",
            "16:\tlearn: 0.6332524\ttotal: 1m\tremaining: 3m 43s\n",
            "17:\tlearn: 0.6134995\ttotal: 1m 3s\tremaining: 3m 39s\n",
            "18:\tlearn: 0.5949747\ttotal: 1m 7s\tremaining: 3m 35s\n",
            "19:\tlearn: 0.5797212\ttotal: 1m 10s\tremaining: 3m 32s\n",
            "20:\tlearn: 0.5729910\ttotal: 1m 14s\tremaining: 3m 28s\n",
            "21:\tlearn: 0.5704302\ttotal: 1m 17s\tremaining: 3m 24s\n",
            "22:\tlearn: 0.5673439\ttotal: 1m 21s\tremaining: 3m 21s\n",
            "23:\tlearn: 0.5631325\ttotal: 1m 24s\tremaining: 3m 17s\n",
            "24:\tlearn: 0.5592571\ttotal: 1m 28s\tremaining: 3m 13s\n",
            "25:\tlearn: 0.5570941\ttotal: 1m 31s\tremaining: 3m 9s\n",
            "26:\tlearn: 0.5540218\ttotal: 1m 34s\tremaining: 3m 6s\n",
            "27:\tlearn: 0.5531392\ttotal: 1m 38s\tremaining: 3m 2s\n",
            "28:\tlearn: 0.5507869\ttotal: 1m 41s\tremaining: 2m 59s\n",
            "29:\tlearn: 0.5424248\ttotal: 1m 45s\tremaining: 2m 55s\n",
            "30:\tlearn: 0.5409159\ttotal: 1m 48s\tremaining: 2m 51s\n",
            "31:\tlearn: 0.5356921\ttotal: 1m 52s\tremaining: 2m 48s\n",
            "32:\tlearn: 0.5341908\ttotal: 1m 55s\tremaining: 2m 44s\n",
            "33:\tlearn: 0.5341211\ttotal: 1m 59s\tremaining: 2m 41s\n",
            "34:\tlearn: 0.5287336\ttotal: 2m 2s\tremaining: 2m 37s\n",
            "35:\tlearn: 0.5127529\ttotal: 2m 5s\tremaining: 2m 33s\n",
            "36:\tlearn: 0.5040666\ttotal: 2m 9s\tremaining: 2m 30s\n",
            "37:\tlearn: 0.5025062\ttotal: 2m 12s\tremaining: 2m 26s\n",
            "38:\tlearn: 0.5014237\ttotal: 2m 16s\tremaining: 2m 23s\n",
            "39:\tlearn: 0.4928194\ttotal: 2m 19s\tremaining: 2m 19s\n",
            "40:\tlearn: 0.4907720\ttotal: 2m 23s\tremaining: 2m 16s\n",
            "41:\tlearn: 0.4890559\ttotal: 2m 26s\tremaining: 2m 12s\n",
            "42:\tlearn: 0.4885924\ttotal: 2m 30s\tremaining: 2m 9s\n",
            "43:\tlearn: 0.4842920\ttotal: 2m 33s\tremaining: 2m 5s\n",
            "44:\tlearn: 0.4818116\ttotal: 2m 36s\tremaining: 2m 2s\n",
            "45:\tlearn: 0.4791523\ttotal: 2m 40s\tremaining: 1m 58s\n",
            "46:\tlearn: 0.4756713\ttotal: 2m 43s\tremaining: 1m 55s\n",
            "47:\tlearn: 0.4709349\ttotal: 2m 47s\tremaining: 1m 51s\n",
            "48:\tlearn: 0.4704639\ttotal: 2m 50s\tremaining: 1m 47s\n",
            "49:\tlearn: 0.4684810\ttotal: 2m 54s\tremaining: 1m 44s\n",
            "50:\tlearn: 0.4657164\ttotal: 2m 57s\tremaining: 1m 40s\n",
            "51:\tlearn: 0.4645558\ttotal: 3m\tremaining: 1m 37s\n",
            "52:\tlearn: 0.4624206\ttotal: 3m 4s\tremaining: 1m 33s\n",
            "53:\tlearn: 0.4613248\ttotal: 3m 7s\tremaining: 1m 30s\n",
            "54:\tlearn: 0.4606558\ttotal: 3m 11s\tremaining: 1m 26s\n",
            "55:\tlearn: 0.4590698\ttotal: 3m 14s\tremaining: 1m 23s\n",
            "56:\tlearn: 0.4568108\ttotal: 3m 18s\tremaining: 1m 19s\n",
            "57:\tlearn: 0.4534426\ttotal: 3m 21s\tremaining: 1m 16s\n",
            "58:\tlearn: 0.4529050\ttotal: 3m 25s\tremaining: 1m 13s\n",
            "59:\tlearn: 0.4506837\ttotal: 3m 28s\tremaining: 1m 9s\n",
            "60:\tlearn: 0.4496776\ttotal: 3m 31s\tremaining: 1m 6s\n",
            "61:\tlearn: 0.4491138\ttotal: 3m 35s\tremaining: 1m 2s\n",
            "62:\tlearn: 0.4490532\ttotal: 3m 38s\tremaining: 59s\n",
            "63:\tlearn: 0.4483240\ttotal: 3m 42s\tremaining: 55.6s\n",
            "64:\tlearn: 0.4480480\ttotal: 3m 45s\tremaining: 52.1s\n",
            "65:\tlearn: 0.4471907\ttotal: 3m 49s\tremaining: 48.6s\n",
            "66:\tlearn: 0.4447338\ttotal: 3m 52s\tremaining: 45.1s\n",
            "67:\tlearn: 0.4446045\ttotal: 3m 56s\tremaining: 41.7s\n",
            "68:\tlearn: 0.4425382\ttotal: 3m 59s\tremaining: 38.2s\n",
            "69:\tlearn: 0.4418251\ttotal: 4m 2s\tremaining: 34.7s\n",
            "70:\tlearn: 0.4411788\ttotal: 4m 6s\tremaining: 31.2s\n",
            "71:\tlearn: 0.4380395\ttotal: 4m 9s\tremaining: 27.8s\n",
            "72:\tlearn: 0.4375695\ttotal: 4m 13s\tremaining: 24.3s\n",
            "73:\tlearn: 0.4363462\ttotal: 4m 16s\tremaining: 20.8s\n",
            "74:\tlearn: 0.4341835\ttotal: 4m 20s\tremaining: 17.4s\n",
            "75:\tlearn: 0.4297417\ttotal: 4m 23s\tremaining: 13.9s\n",
            "76:\tlearn: 0.4283342\ttotal: 4m 27s\tremaining: 10.4s\n",
            "77:\tlearn: 0.4278927\ttotal: 4m 30s\tremaining: 6.94s\n",
            "78:\tlearn: 0.4275215\ttotal: 4m 34s\tremaining: 3.47s\n",
            "79:\tlearn: 0.4262744\ttotal: 4m 37s\tremaining: 0us\n",
            "0:\tlearn: 1.4838696\ttotal: 5.38s\tremaining: 7m 4s\n",
            "1:\tlearn: 1.4146542\ttotal: 10.7s\tremaining: 6m 57s\n",
            "2:\tlearn: 1.0935017\ttotal: 15.8s\tremaining: 6m 46s\n",
            "3:\tlearn: 0.9008158\ttotal: 20.9s\tremaining: 6m 36s\n",
            "4:\tlearn: 0.7453153\ttotal: 25.9s\tremaining: 6m 28s\n",
            "5:\tlearn: 0.6360007\ttotal: 31s\tremaining: 6m 22s\n",
            "6:\tlearn: 0.5569308\ttotal: 36.2s\tremaining: 6m 17s\n",
            "7:\tlearn: 0.5101451\ttotal: 41.3s\tremaining: 6m 11s\n",
            "8:\tlearn: 0.4564877\ttotal: 46.3s\tremaining: 6m 5s\n",
            "9:\tlearn: 0.4138107\ttotal: 51.4s\tremaining: 5m 59s\n",
            "10:\tlearn: 0.3934226\ttotal: 56.3s\tremaining: 5m 53s\n",
            "11:\tlearn: 0.3681360\ttotal: 1m 1s\tremaining: 5m 48s\n",
            "12:\tlearn: 0.3476842\ttotal: 1m 6s\tremaining: 5m 42s\n",
            "13:\tlearn: 0.3203603\ttotal: 1m 11s\tremaining: 5m 37s\n",
            "14:\tlearn: 0.3029316\ttotal: 1m 16s\tremaining: 5m 31s\n",
            "15:\tlearn: 0.2874443\ttotal: 1m 21s\tremaining: 5m 25s\n",
            "16:\tlearn: 0.2821529\ttotal: 1m 26s\tremaining: 5m 19s\n",
            "17:\tlearn: 0.2757168\ttotal: 1m 31s\tremaining: 5m 14s\n",
            "18:\tlearn: 0.2706977\ttotal: 1m 35s\tremaining: 5m 8s\n",
            "19:\tlearn: 0.2588464\ttotal: 1m 40s\tremaining: 5m 2s\n",
            "20:\tlearn: 0.2508098\ttotal: 1m 45s\tremaining: 4m 57s\n",
            "21:\tlearn: 0.2491261\ttotal: 1m 50s\tremaining: 4m 51s\n",
            "22:\tlearn: 0.2452465\ttotal: 1m 55s\tremaining: 4m 46s\n",
            "23:\tlearn: 0.2344262\ttotal: 2m\tremaining: 4m 41s\n",
            "24:\tlearn: 0.2312446\ttotal: 2m 5s\tremaining: 4m 35s\n",
            "25:\tlearn: 0.2299334\ttotal: 2m 10s\tremaining: 4m 30s\n",
            "26:\tlearn: 0.2288253\ttotal: 2m 15s\tremaining: 4m 25s\n",
            "27:\tlearn: 0.2262344\ttotal: 2m 20s\tremaining: 4m 20s\n",
            "28:\tlearn: 0.2248830\ttotal: 2m 24s\tremaining: 4m 14s\n",
            "29:\tlearn: 0.2245757\ttotal: 2m 29s\tremaining: 4m 9s\n",
            "30:\tlearn: 0.2205780\ttotal: 2m 34s\tremaining: 4m 4s\n",
            "31:\tlearn: 0.2191837\ttotal: 2m 39s\tremaining: 3m 59s\n",
            "32:\tlearn: 0.2144679\ttotal: 2m 44s\tremaining: 3m 54s\n",
            "33:\tlearn: 0.2143874\ttotal: 2m 49s\tremaining: 3m 49s\n",
            "34:\tlearn: 0.2099569\ttotal: 2m 54s\tremaining: 3m 44s\n",
            "35:\tlearn: 0.2081272\ttotal: 2m 59s\tremaining: 3m 39s\n",
            "36:\tlearn: 0.2057590\ttotal: 3m 4s\tremaining: 3m 33s\n",
            "37:\tlearn: 0.2034850\ttotal: 3m 8s\tremaining: 3m 28s\n",
            "38:\tlearn: 0.2011786\ttotal: 3m 13s\tremaining: 3m 23s\n",
            "39:\tlearn: 0.1984785\ttotal: 3m 18s\tremaining: 3m 18s\n",
            "40:\tlearn: 0.1967690\ttotal: 3m 23s\tremaining: 3m 13s\n",
            "42:\tlearn: 0.1939149\ttotal: 3m 33s\tremaining: 3m 3s\n",
            "43:\tlearn: 0.1938742\ttotal: 3m 38s\tremaining: 2m 58s\n",
            "44:\tlearn: 0.1923188\ttotal: 3m 43s\tremaining: 2m 53s\n",
            "45:\tlearn: 0.1895468\ttotal: 3m 48s\tremaining: 2m 48s\n",
            "46:\tlearn: 0.1879898\ttotal: 3m 52s\tremaining: 2m 43s\n",
            "47:\tlearn: 0.1869951\ttotal: 3m 57s\tremaining: 2m 38s\n",
            "48:\tlearn: 0.1864040\ttotal: 4m 2s\tremaining: 2m 33s\n",
            "49:\tlearn: 0.1855232\ttotal: 4m 7s\tremaining: 2m 28s\n",
            "50:\tlearn: 0.1832020\ttotal: 4m 12s\tremaining: 2m 23s\n",
            "51:\tlearn: 0.1825105\ttotal: 4m 17s\tremaining: 2m 18s\n",
            "52:\tlearn: 0.1818090\ttotal: 4m 22s\tremaining: 2m 13s\n",
            "53:\tlearn: 0.1779782\ttotal: 4m 27s\tremaining: 2m 8s\n",
            "54:\tlearn: 0.1773281\ttotal: 4m 31s\tremaining: 2m 3s\n",
            "55:\tlearn: 0.1772153\ttotal: 4m 36s\tremaining: 1m 58s\n",
            "56:\tlearn: 0.1766960\ttotal: 4m 41s\tremaining: 1m 53s\n",
            "57:\tlearn: 0.1754198\ttotal: 4m 46s\tremaining: 1m 48s\n",
            "58:\tlearn: 0.1752732\ttotal: 4m 51s\tremaining: 1m 43s\n",
            "59:\tlearn: 0.1743599\ttotal: 4m 56s\tremaining: 1m 38s\n",
            "60:\tlearn: 0.1734519\ttotal: 5m 1s\tremaining: 1m 33s\n",
            "61:\tlearn: 0.1730122\ttotal: 5m 6s\tremaining: 1m 28s\n",
            "62:\tlearn: 0.1704488\ttotal: 5m 11s\tremaining: 1m 23s\n",
            "63:\tlearn: 0.1691625\ttotal: 5m 15s\tremaining: 1m 18s\n",
            "64:\tlearn: 0.1676162\ttotal: 5m 20s\tremaining: 1m 14s\n",
            "65:\tlearn: 0.1674675\ttotal: 5m 25s\tremaining: 1m 9s\n",
            "66:\tlearn: 0.1655323\ttotal: 5m 30s\tremaining: 1m 4s\n",
            "67:\tlearn: 0.1639644\ttotal: 5m 35s\tremaining: 59.2s\n",
            "68:\tlearn: 0.1629302\ttotal: 5m 40s\tremaining: 54.2s\n",
            "69:\tlearn: 0.1627427\ttotal: 5m 45s\tremaining: 49.3s\n",
            "70:\tlearn: 0.1623461\ttotal: 5m 49s\tremaining: 44.3s\n",
            "71:\tlearn: 0.1608430\ttotal: 5m 54s\tremaining: 39.4s\n",
            "72:\tlearn: 0.1586580\ttotal: 5m 59s\tremaining: 34.5s\n",
            "73:\tlearn: 0.1575036\ttotal: 6m 4s\tremaining: 29.6s\n",
            "74:\tlearn: 0.1567843\ttotal: 6m 9s\tremaining: 24.6s\n",
            "75:\tlearn: 0.1545157\ttotal: 6m 14s\tremaining: 19.7s\n",
            "76:\tlearn: 0.1531557\ttotal: 6m 19s\tremaining: 14.8s\n",
            "77:\tlearn: 0.1519263\ttotal: 6m 24s\tremaining: 9.85s\n",
            "78:\tlearn: 0.1518109\ttotal: 6m 29s\tremaining: 4.92s\n",
            "79:\tlearn: 0.1506533\ttotal: 6m 34s\tremaining: 0us\n",
            "0:\tlearn: 1.3695051\ttotal: 8.27s\tremaining: 10m 53s\n",
            "1:\tlearn: 1.0467052\ttotal: 16.6s\tremaining: 10m 46s\n",
            "2:\tlearn: 0.7568853\ttotal: 24.7s\tremaining: 10m 34s\n",
            "3:\tlearn: 0.6093108\ttotal: 32.8s\tremaining: 10m 23s\n",
            "4:\tlearn: 0.5242806\ttotal: 40.8s\tremaining: 10m 11s\n",
            "5:\tlearn: 0.4624735\ttotal: 48.9s\tremaining: 10m 2s\n",
            "6:\tlearn: 0.4149833\ttotal: 56.9s\tremaining: 9m 53s\n",
            "7:\tlearn: 0.3844924\ttotal: 1m 4s\tremaining: 9m 40s\n",
            "8:\tlearn: 0.3497577\ttotal: 1m 12s\tremaining: 9m 30s\n",
            "9:\tlearn: 0.3197638\ttotal: 1m 20s\tremaining: 9m 21s\n",
            "11:\tlearn: 0.2847232\ttotal: 1m 35s\tremaining: 9m 1s\n",
            "12:\tlearn: 0.2733466\ttotal: 1m 43s\tremaining: 8m 51s\n",
            "13:\tlearn: 0.2699523\ttotal: 1m 50s\tremaining: 8m 41s\n",
            "14:\tlearn: 0.2623334\ttotal: 1m 58s\tremaining: 8m 31s\n",
            "15:\tlearn: 0.2565173\ttotal: 2m 5s\tremaining: 8m 21s\n",
            "16:\tlearn: 0.2498932\ttotal: 2m 12s\tremaining: 8m 11s\n",
            "17:\tlearn: 0.2313151\ttotal: 2m 20s\tremaining: 8m 3s\n",
            "18:\tlearn: 0.2266873\ttotal: 2m 27s\tremaining: 7m 54s\n",
            "19:\tlearn: 0.2219660\ttotal: 2m 35s\tremaining: 7m 45s\n",
            "20:\tlearn: 0.2159171\ttotal: 2m 42s\tremaining: 7m 37s\n",
            "21:\tlearn: 0.2139778\ttotal: 2m 50s\tremaining: 7m 28s\n",
            "22:\tlearn: 0.2109099\ttotal: 2m 57s\tremaining: 7m 20s\n",
            "23:\tlearn: 0.2079507\ttotal: 3m 5s\tremaining: 7m 12s\n",
            "24:\tlearn: 0.2069090\ttotal: 3m 12s\tremaining: 7m 3s\n",
            "25:\tlearn: 0.2030328\ttotal: 3m 19s\tremaining: 6m 55s\n",
            "26:\tlearn: 0.2022917\ttotal: 3m 27s\tremaining: 6m 47s\n",
            "27:\tlearn: 0.2002863\ttotal: 3m 34s\tremaining: 6m 39s\n",
            "28:\tlearn: 0.1981130\ttotal: 3m 42s\tremaining: 6m 30s\n",
            "29:\tlearn: 0.1971291\ttotal: 3m 49s\tremaining: 6m 22s\n",
            "30:\tlearn: 0.1943060\ttotal: 3m 57s\tremaining: 6m 15s\n",
            "31:\tlearn: 0.1896590\ttotal: 4m 4s\tremaining: 6m 7s\n",
            "32:\tlearn: 0.1891613\ttotal: 4m 12s\tremaining: 5m 59s\n",
            "33:\tlearn: 0.1882469\ttotal: 4m 19s\tremaining: 5m 51s\n",
            "34:\tlearn: 0.1855005\ttotal: 4m 27s\tremaining: 5m 43s\n",
            "35:\tlearn: 0.1829034\ttotal: 4m 34s\tremaining: 5m 36s\n",
            "36:\tlearn: 0.1816747\ttotal: 4m 42s\tremaining: 5m 28s\n",
            "37:\tlearn: 0.1815110\ttotal: 4m 49s\tremaining: 5m 20s\n",
            "38:\tlearn: 0.1767777\ttotal: 4m 57s\tremaining: 5m 12s\n",
            "39:\tlearn: 0.1740554\ttotal: 5m 4s\tremaining: 5m 4s\n",
            "40:\tlearn: 0.1712595\ttotal: 5m 12s\tremaining: 4m 56s\n",
            "41:\tlearn: 0.1693682\ttotal: 5m 19s\tremaining: 4m 49s\n",
            "42:\tlearn: 0.1687190\ttotal: 5m 26s\tremaining: 4m 41s\n",
            "43:\tlearn: 0.1679684\ttotal: 5m 34s\tremaining: 4m 33s\n",
            "44:\tlearn: 0.1652074\ttotal: 5m 41s\tremaining: 4m 25s\n",
            "45:\tlearn: 0.1614576\ttotal: 5m 48s\tremaining: 4m 17s\n",
            "46:\tlearn: 0.1581520\ttotal: 5m 56s\tremaining: 4m 10s\n",
            "47:\tlearn: 0.1572085\ttotal: 6m 3s\tremaining: 4m 2s\n",
            "48:\tlearn: 0.1546165\ttotal: 6m 11s\tremaining: 3m 55s\n",
            "49:\tlearn: 0.1513695\ttotal: 6m 19s\tremaining: 3m 47s\n",
            "50:\tlearn: 0.1502049\ttotal: 6m 26s\tremaining: 3m 39s\n",
            "51:\tlearn: 0.1495758\ttotal: 6m 34s\tremaining: 3m 32s\n",
            "52:\tlearn: 0.1482236\ttotal: 6m 41s\tremaining: 3m 24s\n",
            "53:\tlearn: 0.1456969\ttotal: 6m 49s\tremaining: 3m 17s\n",
            "54:\tlearn: 0.1448631\ttotal: 6m 56s\tremaining: 3m 9s\n",
            "55:\tlearn: 0.1435905\ttotal: 7m 4s\tremaining: 3m 1s\n",
            "56:\tlearn: 0.1428429\ttotal: 7m 11s\tremaining: 2m 54s\n",
            "57:\tlearn: 0.1418420\ttotal: 7m 19s\tremaining: 2m 46s\n",
            "58:\tlearn: 0.1394833\ttotal: 7m 26s\tremaining: 2m 39s\n",
            "59:\tlearn: 0.1388226\ttotal: 7m 34s\tremaining: 2m 31s\n",
            "60:\tlearn: 0.1382479\ttotal: 7m 41s\tremaining: 2m 23s\n",
            "61:\tlearn: 0.1374241\ttotal: 7m 49s\tremaining: 2m 16s\n",
            "62:\tlearn: 0.1369192\ttotal: 7m 57s\tremaining: 2m 8s\n",
            "63:\tlearn: 0.1344417\ttotal: 8m 4s\tremaining: 2m 1s\n",
            "64:\tlearn: 0.1340664\ttotal: 8m 12s\tremaining: 1m 53s\n",
            "65:\tlearn: 0.1335185\ttotal: 8m 19s\tremaining: 1m 45s\n",
            "66:\tlearn: 0.1312205\ttotal: 8m 27s\tremaining: 1m 38s\n",
            "67:\tlearn: 0.1298230\ttotal: 8m 34s\tremaining: 1m 30s\n",
            "68:\tlearn: 0.1277227\ttotal: 8m 42s\tremaining: 1m 23s\n",
            "69:\tlearn: 0.1268701\ttotal: 8m 50s\tremaining: 1m 15s\n",
            "70:\tlearn: 0.1263629\ttotal: 8m 57s\tremaining: 1m 8s\n",
            "71:\tlearn: 0.1254988\ttotal: 9m 5s\tremaining: 1m\n",
            "72:\tlearn: 0.1236948\ttotal: 9m 12s\tremaining: 53s\n",
            "73:\tlearn: 0.1231936\ttotal: 9m 20s\tremaining: 45.4s\n",
            "74:\tlearn: 0.1226902\ttotal: 9m 27s\tremaining: 37.8s\n",
            "75:\tlearn: 0.1220005\ttotal: 9m 35s\tremaining: 30.3s\n",
            "76:\tlearn: 0.1215184\ttotal: 9m 42s\tremaining: 22.7s\n",
            "77:\tlearn: 0.1203885\ttotal: 9m 50s\tremaining: 15.1s\n",
            "78:\tlearn: 0.1196286\ttotal: 9m 57s\tremaining: 7.57s\n",
            "79:\tlearn: 0.1181950\ttotal: 10m 5s\tremaining: 0us\n",
            "0:\tlearn: 1.1658428\ttotal: 13.8s\tremaining: 18m 6s\n",
            "1:\tlearn: 0.7661685\ttotal: 27.4s\tremaining: 17m 47s\n",
            "2:\tlearn: 0.5993633\ttotal: 40.5s\tremaining: 17m 18s\n",
            "3:\tlearn: 0.4717457\ttotal: 54s\tremaining: 17m 5s\n",
            "4:\tlearn: 0.3850509\ttotal: 1m 7s\tremaining: 16m 51s\n",
            "5:\tlearn: 0.3335158\ttotal: 1m 20s\tremaining: 16m 36s\n",
            "6:\tlearn: 0.2870300\ttotal: 1m 34s\tremaining: 16m 21s\n",
            "7:\tlearn: 0.2563233\ttotal: 1m 47s\tremaining: 16m 5s\n",
            "8:\tlearn: 0.2339909\ttotal: 2m\tremaining: 15m 47s\n",
            "9:\tlearn: 0.2185304\ttotal: 2m 12s\tremaining: 15m 30s\n",
            "10:\tlearn: 0.1916895\ttotal: 2m 26s\tremaining: 15m 18s\n",
            "11:\tlearn: 0.1836752\ttotal: 2m 38s\tremaining: 14m 59s\n",
            "12:\tlearn: 0.1752326\ttotal: 2m 50s\tremaining: 14m 40s\n",
            "13:\tlearn: 0.1718902\ttotal: 3m 2s\tremaining: 14m 22s\n",
            "14:\tlearn: 0.1591951\ttotal: 3m 15s\tremaining: 14m 7s\n",
            "15:\tlearn: 0.1517963\ttotal: 3m 27s\tremaining: 13m 51s\n",
            "16:\tlearn: 0.1474239\ttotal: 3m 40s\tremaining: 13m 35s\n",
            "17:\tlearn: 0.1433049\ttotal: 3m 52s\tremaining: 13m 19s\n",
            "18:\tlearn: 0.1424816\ttotal: 4m 4s\tremaining: 13m 3s\n",
            "19:\tlearn: 0.1413068\ttotal: 4m 16s\tremaining: 12m 48s\n",
            "20:\tlearn: 0.1394539\ttotal: 4m 27s\tremaining: 12m 32s\n",
            "21:\tlearn: 0.1369620\ttotal: 4m 40s\tremaining: 12m 18s\n",
            "22:\tlearn: 0.1354342\ttotal: 4m 52s\tremaining: 12m 4s\n",
            "23:\tlearn: 0.1343369\ttotal: 5m 4s\tremaining: 11m 49s\n",
            "24:\tlearn: 0.1323516\ttotal: 5m 16s\tremaining: 11m 36s\n",
            "25:\tlearn: 0.1293549\ttotal: 5m 28s\tremaining: 11m 22s\n",
            "26:\tlearn: 0.1204326\ttotal: 5m 41s\tremaining: 11m 10s\n",
            "27:\tlearn: 0.1183988\ttotal: 5m 53s\tremaining: 10m 56s\n",
            "28:\tlearn: 0.1182079\ttotal: 6m 5s\tremaining: 10m 43s\n",
            "29:\tlearn: 0.1159341\ttotal: 6m 17s\tremaining: 10m 29s\n",
            "30:\tlearn: 0.1125461\ttotal: 6m 29s\tremaining: 10m 16s\n",
            "31:\tlearn: 0.1109102\ttotal: 6m 42s\tremaining: 10m 3s\n",
            "32:\tlearn: 0.1101627\ttotal: 6m 54s\tremaining: 9m 49s\n",
            "33:\tlearn: 0.1082512\ttotal: 7m 6s\tremaining: 9m 36s\n",
            "34:\tlearn: 0.1071339\ttotal: 7m 18s\tremaining: 9m 23s\n",
            "35:\tlearn: 0.1056488\ttotal: 7m 30s\tremaining: 9m 10s\n",
            "36:\tlearn: 0.1044894\ttotal: 7m 42s\tremaining: 8m 57s\n",
            "37:\tlearn: 0.1037598\ttotal: 7m 54s\tremaining: 8m 44s\n",
            "38:\tlearn: 0.1026665\ttotal: 8m 6s\tremaining: 8m 31s\n",
            "39:\tlearn: 0.1018288\ttotal: 8m 18s\tremaining: 8m 18s\n",
            "40:\tlearn: 0.1003640\ttotal: 8m 30s\tremaining: 8m 5s\n",
            "41:\tlearn: 0.0998915\ttotal: 8m 42s\tremaining: 7m 52s\n",
            "42:\tlearn: 0.0971830\ttotal: 8m 54s\tremaining: 7m 39s\n",
            "43:\tlearn: 0.0961169\ttotal: 9m 6s\tremaining: 7m 26s\n",
            "44:\tlearn: 0.0950578\ttotal: 9m 18s\tremaining: 7m 14s\n",
            "45:\tlearn: 0.0943369\ttotal: 9m 30s\tremaining: 7m 1s\n",
            "46:\tlearn: 0.0926757\ttotal: 9m 42s\tremaining: 6m 48s\n",
            "47:\tlearn: 0.0905403\ttotal: 9m 54s\tremaining: 6m 36s\n",
            "48:\tlearn: 0.0880731\ttotal: 10m 6s\tremaining: 6m 23s\n",
            "49:\tlearn: 0.0864089\ttotal: 10m 18s\tremaining: 6m 11s\n",
            "50:\tlearn: 0.0855773\ttotal: 10m 30s\tremaining: 5m 58s\n",
            "51:\tlearn: 0.0848991\ttotal: 10m 42s\tremaining: 5m 45s\n",
            "52:\tlearn: 0.0836898\ttotal: 10m 54s\tremaining: 5m 33s\n",
            "53:\tlearn: 0.0834296\ttotal: 11m 6s\tremaining: 5m 20s\n",
            "54:\tlearn: 0.0827639\ttotal: 11m 18s\tremaining: 5m 8s\n",
            "55:\tlearn: 0.0818778\ttotal: 11m 30s\tremaining: 4m 55s\n",
            "56:\tlearn: 0.0812544\ttotal: 11m 42s\tremaining: 4m 43s\n",
            "57:\tlearn: 0.0806426\ttotal: 11m 54s\tremaining: 4m 30s\n",
            "58:\tlearn: 0.0791346\ttotal: 12m 6s\tremaining: 4m 18s\n",
            "59:\tlearn: 0.0782958\ttotal: 12m 18s\tremaining: 4m 6s\n",
            "60:\tlearn: 0.0776480\ttotal: 12m 30s\tremaining: 3m 53s\n",
            "61:\tlearn: 0.0772392\ttotal: 12m 42s\tremaining: 3m 41s\n",
            "62:\tlearn: 0.0761425\ttotal: 12m 54s\tremaining: 3m 28s\n",
            "63:\tlearn: 0.0755251\ttotal: 13m 6s\tremaining: 3m 16s\n",
            "64:\tlearn: 0.0744912\ttotal: 13m 18s\tremaining: 3m 4s\n",
            "65:\tlearn: 0.0730367\ttotal: 13m 30s\tremaining: 2m 51s\n",
            "66:\tlearn: 0.0711476\ttotal: 13m 42s\tremaining: 2m 39s\n",
            "67:\tlearn: 0.0702100\ttotal: 13m 55s\tremaining: 2m 27s\n",
            "68:\tlearn: 0.0692194\ttotal: 14m 7s\tremaining: 2m 15s\n",
            "69:\tlearn: 0.0687885\ttotal: 14m 19s\tremaining: 2m 2s\n",
            "70:\tlearn: 0.0686286\ttotal: 14m 31s\tremaining: 1m 50s\n",
            "71:\tlearn: 0.0681686\ttotal: 14m 43s\tremaining: 1m 38s\n",
            "72:\tlearn: 0.0675139\ttotal: 14m 55s\tremaining: 1m 25s\n",
            "73:\tlearn: 0.0660042\ttotal: 15m 7s\tremaining: 1m 13s\n",
            "74:\tlearn: 0.0656837\ttotal: 15m 19s\tremaining: 1m 1s\n",
            "75:\tlearn: 0.0654015\ttotal: 15m 31s\tremaining: 49s\n",
            "76:\tlearn: 0.0648088\ttotal: 15m 43s\tremaining: 36.8s\n",
            "77:\tlearn: 0.0644834\ttotal: 15m 55s\tremaining: 24.5s\n",
            "78:\tlearn: 0.0627699\ttotal: 16m 8s\tremaining: 12.3s\n",
            "79:\tlearn: 0.0616410\ttotal: 16m 20s\tremaining: 0us\n"
          ]
        }
      ]
    },
    {
      "cell_type": "code",
      "source": [
        "plt.figure()\n",
        "plt.plot(Depths,Train_accuracies_depth,label = \"Train accuracy\")\n",
        "plt.plot(Depths,Test_accuracies_depth,label = \"Test accuracy\")\n",
        "plt.xlabel(\"depths\")\n",
        "plt.ylabel(\"accuracy\")\n",
        "plt.title(\"Catboost depths vs. accuracy\")\n",
        "plt.legend()"
      ],
      "metadata": {
        "colab": {
          "base_uri": "https://localhost:8080/",
          "height": 312
        },
        "id": "_sykrHoDz3pe",
        "outputId": "6fa61d95-5dfc-47e8-d318-e4b324430ce5"
      },
      "execution_count": null,
      "outputs": [
        {
          "output_type": "execute_result",
          "data": {
            "text/plain": [
              "<matplotlib.legend.Legend at 0x7f344b0c97d0>"
            ]
          },
          "metadata": {},
          "execution_count": 64
        },
        {
          "output_type": "display_data",
          "data": {
            "image/png": "[encoded data removed]",
            "text/plain": [
              "<Figure size 432x288 with 1 Axes>"
            ]
          },
          "metadata": {
            "needs_background": "light"
          }
        }
      ]
    },
    {
      "cell_type": "code",
      "source": [
        "Accuracy_shortist=[5,7,8,9]\n",
        "for i in Accuracy_shortist:\n",
        "    print('Train accuracy {:.3f} and test accuracy {:.3f} in depth: {}'.format(Train_accuracies_depth[Depths.index(i)],Test_accuracies_depth[Depths.index(i)], i))"
      ],
      "metadata": {
        "colab": {
          "base_uri": "https://localhost:8080/"
        },
        "id": "yrj3dhUWMHj5",
        "outputId": "26a4251a-55e7-4a97-86f6-5609ed8951be"
      },
      "execution_count": null,
      "outputs": [
        {
          "output_type": "stream",
          "name": "stdout",
          "text": [
            "Train accuracy 0.939 and test accuracy 0.934 in depth: 5\n",
            "Train accuracy 0.958 and test accuracy 0.933 in depth: 7\n",
            "Train accuracy 0.966 and test accuracy 0.937 in depth: 8\n",
            "Train accuracy 0.982 and test accuracy 0.942 in depth: 9\n"
          ]
        }
      ]
    },
    {
      "cell_type": "code",
      "source": [
        "Train_accuracies_learning_rate=[]\n",
        "Test_accuracies_learning_rate=[]\n",
        "learning_rates=[0.001, 0.01, 0.1, 1]\n",
        "\n",
        "for i in learning_rates:\n",
        "\n",
        "      # Initialize CatBoostClassifier\n",
        "      CatBoostModel = CatBoostClassifier(iterations=80,\n",
        "                          learning_rate=i,\n",
        "                          depth=5)\n",
        "      # Fit model\n",
        "      CatBoostModel.fit(flatten_train_X, train_y)\n",
        "      # Get predictions on train\n",
        "      Cat_train_predict = CatBoostModel.predict(flatten_train_X)\n",
        "      Cat_train_report=classification_report(Cat_train_predict,train_y, output_dict=True)\n",
        "      #print(Cat_train_report)\n",
        "      Train_accuracies_learning_rate.append(Cat_train_report['accuracy'])\n",
        "\n",
        "      # Get predictions on test\n",
        "      Cat_test_predict = CatBoostModel.predict(flatten_test_X)\n",
        "      Cat_test_report=classification_report(Cat_test_predict,test_y, output_dict=True)\n",
        "      #print(Cat_test_report)\n",
        "      Test_accuracies_learning_rate.append(Cat_test_report['accuracy'])"
      ],
      "metadata": {
        "colab": {
          "base_uri": "https://localhost:8080/"
        },
        "id": "UyaVkabhNazP",
        "outputId": "c96691a9-7d2e-46c2-a992-4dac553e0b51"
      },
      "execution_count": null,
      "outputs": [
        {
          "output_type": "stream",
          "name": "stdout",
          "text": [
            "0:\tlearn: 2.2997149\ttotal: 2.76s\tremaining: 3m 37s\n",
            "1:\tlearn: 2.2969516\ttotal: 4.53s\tremaining: 2m 56s\n",
            "2:\tlearn: 2.2942334\ttotal: 6.35s\tremaining: 2m 43s\n",
            "3:\tlearn: 2.2913524\ttotal: 8.2s\tremaining: 2m 35s\n",
            "4:\tlearn: 2.2886000\ttotal: 10s\tremaining: 2m 30s\n",
            "5:\tlearn: 2.2858671\ttotal: 11.8s\tremaining: 2m 25s\n",
            "6:\tlearn: 2.2831354\ttotal: 13.7s\tremaining: 2m 22s\n",
            "7:\tlearn: 2.2805357\ttotal: 15.5s\tremaining: 2m 19s\n",
            "8:\tlearn: 2.2777516\ttotal: 17.3s\tremaining: 2m 16s\n",
            "9:\tlearn: 2.2749348\ttotal: 19.3s\tremaining: 2m 14s\n",
            "10:\tlearn: 2.2722502\ttotal: 21.1s\tremaining: 2m 12s\n",
            "11:\tlearn: 2.2696287\ttotal: 23s\tremaining: 2m 10s\n",
            "12:\tlearn: 2.2670288\ttotal: 24.8s\tremaining: 2m 7s\n",
            "13:\tlearn: 2.2643682\ttotal: 26.6s\tremaining: 2m 5s\n",
            "14:\tlearn: 2.2617263\ttotal: 28.4s\tremaining: 2m 3s\n",
            "15:\tlearn: 2.2591695\ttotal: 30.2s\tremaining: 2m\n",
            "16:\tlearn: 2.2565405\ttotal: 32s\tremaining: 1m 58s\n",
            "17:\tlearn: 2.2537866\ttotal: 33.8s\tremaining: 1m 56s\n",
            "18:\tlearn: 2.2511550\ttotal: 35.7s\tremaining: 1m 54s\n",
            "19:\tlearn: 2.2486709\ttotal: 37.4s\tremaining: 1m 52s\n",
            "20:\tlearn: 2.2460989\ttotal: 39.3s\tremaining: 1m 50s\n",
            "21:\tlearn: 2.2435609\ttotal: 41.1s\tremaining: 1m 48s\n",
            "22:\tlearn: 2.2410509\ttotal: 43.4s\tremaining: 1m 47s\n",
            "23:\tlearn: 2.2385175\ttotal: 46.2s\tremaining: 1m 47s\n",
            "24:\tlearn: 2.2359591\ttotal: 48s\tremaining: 1m 45s\n",
            "25:\tlearn: 2.2334751\ttotal: 49.8s\tremaining: 1m 43s\n",
            "26:\tlearn: 2.2309995\ttotal: 51.6s\tremaining: 1m 41s\n",
            "27:\tlearn: 2.2286590\ttotal: 53.3s\tremaining: 1m 39s\n",
            "28:\tlearn: 2.2261339\ttotal: 55s\tremaining: 1m 36s\n",
            "29:\tlearn: 2.2237095\ttotal: 56.9s\tremaining: 1m 34s\n",
            "30:\tlearn: 2.2212087\ttotal: 58.7s\tremaining: 1m 32s\n",
            "31:\tlearn: 2.2187548\ttotal: 1m\tremaining: 1m 30s\n",
            "32:\tlearn: 2.2163741\ttotal: 1m 2s\tremaining: 1m 28s\n",
            "33:\tlearn: 2.2139642\ttotal: 1m 4s\tremaining: 1m 26s\n",
            "34:\tlearn: 2.2115513\ttotal: 1m 5s\tremaining: 1m 24s\n",
            "35:\tlearn: 2.2091443\ttotal: 1m 7s\tremaining: 1m 22s\n",
            "36:\tlearn: 2.2065574\ttotal: 1m 9s\tremaining: 1m 20s\n",
            "37:\tlearn: 2.2041574\ttotal: 1m 11s\tremaining: 1m 18s\n",
            "38:\tlearn: 2.2017735\ttotal: 1m 13s\tremaining: 1m 16s\n",
            "39:\tlearn: 2.1993358\ttotal: 1m 14s\tremaining: 1m 14s\n",
            "40:\tlearn: 2.1969562\ttotal: 1m 16s\tremaining: 1m 13s\n",
            "41:\tlearn: 2.1946794\ttotal: 1m 18s\tremaining: 1m 11s\n",
            "42:\tlearn: 2.1923369\ttotal: 1m 20s\tremaining: 1m 9s\n",
            "43:\tlearn: 2.1900577\ttotal: 1m 22s\tremaining: 1m 7s\n",
            "44:\tlearn: 2.1877230\ttotal: 1m 23s\tremaining: 1m 5s\n",
            "45:\tlearn: 2.1853825\ttotal: 1m 25s\tremaining: 1m 3s\n",
            "46:\tlearn: 2.1831139\ttotal: 1m 27s\tremaining: 1m 1s\n",
            "47:\tlearn: 2.1808806\ttotal: 1m 29s\tremaining: 59.5s\n",
            "48:\tlearn: 2.1784730\ttotal: 1m 31s\tremaining: 57.7s\n",
            "49:\tlearn: 2.1760482\ttotal: 1m 32s\tremaining: 55.8s\n",
            "50:\tlearn: 2.1738178\ttotal: 1m 34s\tremaining: 53.9s\n",
            "51:\tlearn: 2.1714780\ttotal: 1m 36s\tremaining: 52s\n",
            "52:\tlearn: 2.1691153\ttotal: 1m 38s\tremaining: 50.1s\n",
            "53:\tlearn: 2.1666630\ttotal: 1m 40s\tremaining: 48.3s\n",
            "54:\tlearn: 2.1643783\ttotal: 1m 42s\tremaining: 46.4s\n",
            "55:\tlearn: 2.1621587\ttotal: 1m 43s\tremaining: 44.5s\n",
            "56:\tlearn: 2.1599089\ttotal: 1m 45s\tremaining: 42.7s\n",
            "57:\tlearn: 2.1576769\ttotal: 1m 47s\tremaining: 40.8s\n",
            "58:\tlearn: 2.1555213\ttotal: 1m 49s\tremaining: 38.9s\n",
            "59:\tlearn: 2.1534140\ttotal: 1m 51s\tremaining: 37s\n",
            "60:\tlearn: 2.1511554\ttotal: 1m 52s\tremaining: 35.2s\n",
            "61:\tlearn: 2.1489184\ttotal: 1m 54s\tremaining: 33.3s\n",
            "62:\tlearn: 2.1466970\ttotal: 1m 56s\tremaining: 31.4s\n",
            "63:\tlearn: 2.1444885\ttotal: 1m 58s\tremaining: 29.6s\n",
            "64:\tlearn: 2.1423628\ttotal: 2m\tremaining: 27.7s\n",
            "65:\tlearn: 2.1401614\ttotal: 2m 1s\tremaining: 25.9s\n",
            "66:\tlearn: 2.1379490\ttotal: 2m 3s\tremaining: 24s\n",
            "67:\tlearn: 2.1357411\ttotal: 2m 5s\tremaining: 22.2s\n",
            "68:\tlearn: 2.1335071\ttotal: 2m 7s\tremaining: 20.3s\n",
            "69:\tlearn: 2.1314285\ttotal: 2m 9s\tremaining: 18.5s\n",
            "70:\tlearn: 2.1293224\ttotal: 2m 10s\tremaining: 16.6s\n",
            "71:\tlearn: 2.1271646\ttotal: 2m 12s\tremaining: 14.7s\n",
            "72:\tlearn: 2.1250817\ttotal: 2m 14s\tremaining: 12.9s\n",
            "73:\tlearn: 2.1229093\ttotal: 2m 16s\tremaining: 11.1s\n",
            "74:\tlearn: 2.1208381\ttotal: 2m 18s\tremaining: 9.21s\n",
            "75:\tlearn: 2.1187810\ttotal: 2m 20s\tremaining: 7.37s\n",
            "76:\tlearn: 2.1166220\ttotal: 2m 21s\tremaining: 5.53s\n",
            "77:\tlearn: 2.1145035\ttotal: 2m 23s\tremaining: 3.68s\n",
            "78:\tlearn: 2.1125141\ttotal: 2m 25s\tremaining: 1.84s\n",
            "79:\tlearn: 2.1104948\ttotal: 2m 26s\tremaining: 0us\n",
            "0:\tlearn: 2.2740131\ttotal: 2.02s\tremaining: 2m 39s\n",
            "1:\tlearn: 2.2476192\ttotal: 3.77s\tremaining: 2m 27s\n",
            "2:\tlearn: 2.2223871\ttotal: 5.59s\tremaining: 2m 23s\n",
            "3:\tlearn: 2.1977039\ttotal: 7.44s\tremaining: 2m 21s\n",
            "4:\tlearn: 2.1739912\ttotal: 9.25s\tremaining: 2m 18s\n",
            "5:\tlearn: 2.1513060\ttotal: 11s\tremaining: 2m 15s\n",
            "6:\tlearn: 2.1297439\ttotal: 12.9s\tremaining: 2m 14s\n",
            "7:\tlearn: 2.1090052\ttotal: 14.7s\tremaining: 2m 12s\n",
            "8:\tlearn: 2.0879297\ttotal: 16.6s\tremaining: 2m 11s\n",
            "9:\tlearn: 2.0681796\ttotal: 18.4s\tremaining: 2m 8s\n",
            "10:\tlearn: 2.0477686\ttotal: 20.2s\tremaining: 2m 6s\n",
            "11:\tlearn: 2.0283556\ttotal: 22.1s\tremaining: 2m 5s\n",
            "12:\tlearn: 2.0099462\ttotal: 23.8s\tremaining: 2m 2s\n",
            "13:\tlearn: 1.9918614\ttotal: 25.7s\tremaining: 2m\n",
            "14:\tlearn: 1.9748826\ttotal: 27.5s\tremaining: 1m 59s\n",
            "15:\tlearn: 1.9566447\ttotal: 29.3s\tremaining: 1m 57s\n",
            "16:\tlearn: 1.9400150\ttotal: 30.9s\tremaining: 1m 54s\n",
            "17:\tlearn: 1.9237979\ttotal: 32.8s\tremaining: 1m 52s\n",
            "18:\tlearn: 1.9076700\ttotal: 34.7s\tremaining: 1m 51s\n",
            "19:\tlearn: 1.8912355\ttotal: 36.4s\tremaining: 1m 49s\n",
            "20:\tlearn: 1.8747765\ttotal: 38.3s\tremaining: 1m 47s\n",
            "21:\tlearn: 1.8592449\ttotal: 40.1s\tremaining: 1m 45s\n",
            "22:\tlearn: 1.8446378\ttotal: 41.8s\tremaining: 1m 43s\n",
            "23:\tlearn: 1.8306822\ttotal: 43.7s\tremaining: 1m 41s\n",
            "24:\tlearn: 1.8154417\ttotal: 45.4s\tremaining: 1m 39s\n",
            "25:\tlearn: 1.8016929\ttotal: 47.3s\tremaining: 1m 38s\n",
            "26:\tlearn: 1.7889522\ttotal: 49.1s\tremaining: 1m 36s\n",
            "27:\tlearn: 1.7746220\ttotal: 50.9s\tremaining: 1m 34s\n",
            "28:\tlearn: 1.7605180\ttotal: 52.8s\tremaining: 1m 32s\n",
            "29:\tlearn: 1.7474433\ttotal: 54.6s\tremaining: 1m 31s\n",
            "30:\tlearn: 1.7355913\ttotal: 56.2s\tremaining: 1m 28s\n",
            "31:\tlearn: 1.7232184\ttotal: 58s\tremaining: 1m 27s\n",
            "32:\tlearn: 1.7109448\ttotal: 59.8s\tremaining: 1m 25s\n",
            "33:\tlearn: 1.7000428\ttotal: 1m 1s\tremaining: 1m 23s\n",
            "34:\tlearn: 1.6880728\ttotal: 1m 3s\tremaining: 1m 21s\n",
            "35:\tlearn: 1.6772773\ttotal: 1m 4s\tremaining: 1m 19s\n",
            "36:\tlearn: 1.6646653\ttotal: 1m 6s\tremaining: 1m 17s\n",
            "37:\tlearn: 1.6541405\ttotal: 1m 8s\tremaining: 1m 15s\n",
            "38:\tlearn: 1.6420820\ttotal: 1m 10s\tremaining: 1m 13s\n",
            "39:\tlearn: 1.6302403\ttotal: 1m 12s\tremaining: 1m 12s\n",
            "40:\tlearn: 1.6187342\ttotal: 1m 13s\tremaining: 1m 10s\n",
            "41:\tlearn: 1.6082670\ttotal: 1m 15s\tremaining: 1m 8s\n",
            "42:\tlearn: 1.5979422\ttotal: 1m 17s\tremaining: 1m 6s\n",
            "43:\tlearn: 1.5880812\ttotal: 1m 19s\tremaining: 1m 4s\n",
            "44:\tlearn: 1.5779776\ttotal: 1m 21s\tremaining: 1m 3s\n",
            "45:\tlearn: 1.5688729\ttotal: 1m 22s\tremaining: 1m 1s\n",
            "46:\tlearn: 1.5595891\ttotal: 1m 24s\tremaining: 59.2s\n",
            "47:\tlearn: 1.5505024\ttotal: 1m 25s\tremaining: 57.2s\n",
            "48:\tlearn: 1.5407708\ttotal: 1m 27s\tremaining: 55.5s\n",
            "49:\tlearn: 1.5301717\ttotal: 1m 29s\tremaining: 53.8s\n",
            "50:\tlearn: 1.5214435\ttotal: 1m 31s\tremaining: 52s\n",
            "51:\tlearn: 1.5121953\ttotal: 1m 33s\tremaining: 50.2s\n",
            "52:\tlearn: 1.5031395\ttotal: 1m 34s\tremaining: 48.3s\n",
            "53:\tlearn: 1.4945426\ttotal: 1m 36s\tremaining: 46.5s\n",
            "54:\tlearn: 1.4849116\ttotal: 1m 38s\tremaining: 44.7s\n",
            "55:\tlearn: 1.4765795\ttotal: 1m 39s\tremaining: 42.8s\n",
            "56:\tlearn: 1.4691593\ttotal: 1m 41s\tremaining: 41s\n",
            "57:\tlearn: 1.4617562\ttotal: 1m 43s\tremaining: 39.2s\n",
            "58:\tlearn: 1.4533387\ttotal: 1m 45s\tremaining: 37.4s\n",
            "59:\tlearn: 1.4447003\ttotal: 1m 46s\tremaining: 35.6s\n",
            "60:\tlearn: 1.4354863\ttotal: 1m 48s\tremaining: 33.9s\n",
            "61:\tlearn: 1.4266832\ttotal: 1m 50s\tremaining: 32.1s\n",
            "62:\tlearn: 1.4197940\ttotal: 1m 52s\tremaining: 30.3s\n",
            "63:\tlearn: 1.4108315\ttotal: 1m 54s\tremaining: 28.5s\n",
            "64:\tlearn: 1.4036871\ttotal: 1m 55s\tremaining: 26.7s\n",
            "65:\tlearn: 1.3956330\ttotal: 1m 57s\tremaining: 24.9s\n",
            "66:\tlearn: 1.3876972\ttotal: 1m 59s\tremaining: 23.2s\n",
            "67:\tlearn: 1.3811591\ttotal: 2m 1s\tremaining: 21.5s\n",
            "68:\tlearn: 1.3728832\ttotal: 2m 4s\tremaining: 19.8s\n",
            "69:\tlearn: 1.3663959\ttotal: 2m 6s\tremaining: 18.1s\n",
            "70:\tlearn: 1.3586446\ttotal: 2m 9s\tremaining: 16.4s\n",
            "71:\tlearn: 1.3504305\ttotal: 2m 11s\tremaining: 14.6s\n",
            "72:\tlearn: 1.3439614\ttotal: 2m 13s\tremaining: 12.8s\n",
            "73:\tlearn: 1.3363007\ttotal: 2m 15s\tremaining: 11s\n",
            "74:\tlearn: 1.3284547\ttotal: 2m 18s\tremaining: 9.2s\n",
            "75:\tlearn: 1.3204276\ttotal: 2m 20s\tremaining: 7.41s\n",
            "76:\tlearn: 1.3141069\ttotal: 2m 23s\tremaining: 5.58s\n",
            "77:\tlearn: 1.3064183\ttotal: 2m 25s\tremaining: 3.72s\n",
            "78:\tlearn: 1.3003716\ttotal: 2m 26s\tremaining: 1.86s\n",
            "79:\tlearn: 1.2935454\ttotal: 2m 29s\tremaining: 0us\n",
            "0:\tlearn: 2.0319169\ttotal: 2.05s\tremaining: 2m 41s\n",
            "1:\tlearn: 1.8511265\ttotal: 3.89s\tremaining: 2m 31s\n",
            "2:\tlearn: 1.7141313\ttotal: 5.7s\tremaining: 2m 26s\n",
            "3:\tlearn: 1.6107452\ttotal: 7.27s\tremaining: 2m 18s\n",
            "4:\tlearn: 1.5058421\ttotal: 9.1s\tremaining: 2m 16s\n",
            "5:\tlearn: 1.4272826\ttotal: 10.7s\tremaining: 2m 11s\n",
            "6:\tlearn: 1.3357619\ttotal: 12.6s\tremaining: 2m 11s\n",
            "7:\tlearn: 1.2615535\ttotal: 14.3s\tremaining: 2m 8s\n",
            "8:\tlearn: 1.1972418\ttotal: 16s\tremaining: 2m 6s\n",
            "9:\tlearn: 1.1387990\ttotal: 17.8s\tremaining: 2m 4s\n",
            "10:\tlearn: 1.0858770\ttotal: 19.7s\tremaining: 2m 3s\n",
            "11:\tlearn: 1.0415542\ttotal: 21.4s\tremaining: 2m 1s\n",
            "12:\tlearn: 0.9980949\ttotal: 23.4s\tremaining: 2m\n",
            "13:\tlearn: 0.9646587\ttotal: 24.9s\tremaining: 1m 57s\n",
            "14:\tlearn: 0.9232393\ttotal: 26.7s\tremaining: 1m 55s\n",
            "15:\tlearn: 0.8886446\ttotal: 28.6s\tremaining: 1m 54s\n",
            "16:\tlearn: 0.8569032\ttotal: 30.5s\tremaining: 1m 52s\n",
            "17:\tlearn: 0.8270684\ttotal: 32.2s\tremaining: 1m 50s\n",
            "18:\tlearn: 0.8008460\ttotal: 33.8s\tremaining: 1m 48s\n",
            "19:\tlearn: 0.7747574\ttotal: 35.6s\tremaining: 1m 46s\n",
            "20:\tlearn: 0.7514206\ttotal: 37.3s\tremaining: 1m 44s\n",
            "21:\tlearn: 0.7292329\ttotal: 39s\tremaining: 1m 42s\n",
            "22:\tlearn: 0.7114740\ttotal: 40.6s\tremaining: 1m 40s\n",
            "23:\tlearn: 0.6936394\ttotal: 42.1s\tremaining: 1m 38s\n",
            "24:\tlearn: 0.6793613\ttotal: 43.5s\tremaining: 1m 35s\n",
            "25:\tlearn: 0.6613073\ttotal: 45.2s\tremaining: 1m 33s\n",
            "26:\tlearn: 0.6442880\ttotal: 46.7s\tremaining: 1m 31s\n",
            "27:\tlearn: 0.6241825\ttotal: 48.6s\tremaining: 1m 30s\n",
            "28:\tlearn: 0.6087358\ttotal: 50.2s\tremaining: 1m 28s\n",
            "29:\tlearn: 0.5929630\ttotal: 51.7s\tremaining: 1m 26s\n",
            "30:\tlearn: 0.5783593\ttotal: 53.4s\tremaining: 1m 24s\n",
            "31:\tlearn: 0.5642522\ttotal: 54.9s\tremaining: 1m 22s\n",
            "32:\tlearn: 0.5538343\ttotal: 56.4s\tremaining: 1m 20s\n",
            "33:\tlearn: 0.5445789\ttotal: 57.7s\tremaining: 1m 18s\n",
            "34:\tlearn: 0.5319793\ttotal: 59.4s\tremaining: 1m 16s\n",
            "35:\tlearn: 0.5223190\ttotal: 1m\tremaining: 1m 14s\n",
            "36:\tlearn: 0.5122317\ttotal: 1m 2s\tremaining: 1m 12s\n",
            "37:\tlearn: 0.5015683\ttotal: 1m 4s\tremaining: 1m 11s\n",
            "38:\tlearn: 0.4941522\ttotal: 1m 5s\tremaining: 1m 8s\n",
            "39:\tlearn: 0.4835411\ttotal: 1m 7s\tremaining: 1m 7s\n",
            "40:\tlearn: 0.4739480\ttotal: 1m 9s\tremaining: 1m 5s\n",
            "41:\tlearn: 0.4665506\ttotal: 1m 10s\tremaining: 1m 3s\n",
            "42:\tlearn: 0.4587204\ttotal: 1m 12s\tremaining: 1m 2s\n",
            "43:\tlearn: 0.4507928\ttotal: 1m 13s\tremaining: 1m\n",
            "44:\tlearn: 0.4459267\ttotal: 1m 14s\tremaining: 58.2s\n",
            "45:\tlearn: 0.4396245\ttotal: 1m 16s\tremaining: 56.4s\n",
            "46:\tlearn: 0.4326876\ttotal: 1m 17s\tremaining: 54.7s\n",
            "47:\tlearn: 0.4258680\ttotal: 1m 19s\tremaining: 53s\n",
            "48:\tlearn: 0.4199192\ttotal: 1m 20s\tremaining: 51.1s\n",
            "49:\tlearn: 0.4123390\ttotal: 1m 22s\tremaining: 49.4s\n",
            "50:\tlearn: 0.4057256\ttotal: 1m 23s\tremaining: 47.7s\n",
            "51:\tlearn: 0.4017234\ttotal: 1m 25s\tremaining: 45.8s\n",
            "52:\tlearn: 0.3948355\ttotal: 1m 26s\tremaining: 44.2s\n",
            "53:\tlearn: 0.3892741\ttotal: 1m 28s\tremaining: 42.5s\n",
            "54:\tlearn: 0.3820133\ttotal: 1m 29s\tremaining: 40.9s\n",
            "55:\tlearn: 0.3769513\ttotal: 1m 31s\tremaining: 39.1s\n",
            "56:\tlearn: 0.3720978\ttotal: 1m 32s\tremaining: 37.4s\n",
            "57:\tlearn: 0.3671837\ttotal: 1m 34s\tremaining: 35.8s\n",
            "58:\tlearn: 0.3620723\ttotal: 1m 35s\tremaining: 34.1s\n",
            "59:\tlearn: 0.3568877\ttotal: 1m 37s\tremaining: 32.5s\n",
            "60:\tlearn: 0.3523478\ttotal: 1m 39s\tremaining: 30.9s\n",
            "61:\tlearn: 0.3472000\ttotal: 1m 40s\tremaining: 29.2s\n",
            "62:\tlearn: 0.3437726\ttotal: 1m 41s\tremaining: 27.5s\n",
            "63:\tlearn: 0.3385774\ttotal: 1m 43s\tremaining: 25.9s\n",
            "64:\tlearn: 0.3365367\ttotal: 1m 44s\tremaining: 24.2s\n",
            "65:\tlearn: 0.3335287\ttotal: 1m 46s\tremaining: 22.5s\n",
            "66:\tlearn: 0.3288685\ttotal: 1m 47s\tremaining: 20.9s\n",
            "67:\tlearn: 0.3256758\ttotal: 1m 49s\tremaining: 19.3s\n",
            "68:\tlearn: 0.3215977\ttotal: 1m 50s\tremaining: 17.7s\n",
            "69:\tlearn: 0.3192368\ttotal: 1m 52s\tremaining: 16s\n",
            "70:\tlearn: 0.3143927\ttotal: 1m 54s\tremaining: 14.5s\n",
            "71:\tlearn: 0.3107628\ttotal: 1m 55s\tremaining: 12.9s\n",
            "72:\tlearn: 0.3062601\ttotal: 1m 57s\tremaining: 11.3s\n",
            "73:\tlearn: 0.3023705\ttotal: 1m 59s\tremaining: 9.66s\n",
            "74:\tlearn: 0.3006603\ttotal: 2m\tremaining: 8.02s\n",
            "75:\tlearn: 0.2969850\ttotal: 2m 1s\tremaining: 6.4s\n",
            "76:\tlearn: 0.2939746\ttotal: 2m 3s\tremaining: 4.8s\n",
            "77:\tlearn: 0.2922335\ttotal: 2m 4s\tremaining: 3.19s\n",
            "78:\tlearn: 0.2885986\ttotal: 2m 6s\tremaining: 1.6s\n",
            "79:\tlearn: 0.2857809\ttotal: 2m 7s\tremaining: 0us\n",
            "0:\tlearn: 1.6824592\ttotal: 2.05s\tremaining: 2m 41s\n",
            "1:\tlearn: 1.2522661\ttotal: 3.7s\tremaining: 2m 24s\n",
            "2:\tlearn: 0.9192197\ttotal: 5.49s\tremaining: 2m 20s\n",
            "3:\tlearn: 0.7944254\ttotal: 6.96s\tremaining: 2m 12s\n",
            "4:\tlearn: 0.7015597\ttotal: 8.57s\tremaining: 2m 8s\n",
            "5:\tlearn: 0.6234127\ttotal: 10.2s\tremaining: 2m 5s\n",
            "6:\tlearn: 0.5767990\ttotal: 11.4s\tremaining: 1m 58s\n",
            "7:\tlearn: 0.5232220\ttotal: 13s\tremaining: 1m 56s\n",
            "8:\tlearn: 0.5050540\ttotal: 14.3s\tremaining: 1m 53s\n",
            "9:\tlearn: 0.4763106\ttotal: 15.8s\tremaining: 1m 50s\n",
            "10:\tlearn: 0.4478230\ttotal: 17.3s\tremaining: 1m 48s\n",
            "11:\tlearn: 0.4130554\ttotal: 18.8s\tremaining: 1m 46s\n",
            "12:\tlearn: 0.3959950\ttotal: 20.2s\tremaining: 1m 43s\n",
            "13:\tlearn: 0.3816677\ttotal: 21.3s\tremaining: 1m 40s\n",
            "14:\tlearn: 0.3643323\ttotal: 22.6s\tremaining: 1m 38s\n",
            "15:\tlearn: 0.3575339\ttotal: 23.6s\tremaining: 1m 34s\n",
            "16:\tlearn: 0.3444966\ttotal: 25s\tremaining: 1m 32s\n",
            "17:\tlearn: 0.3326224\ttotal: 26.4s\tremaining: 1m 30s\n",
            "18:\tlearn: 0.3252736\ttotal: 27.6s\tremaining: 1m 28s\n",
            "19:\tlearn: 0.3150390\ttotal: 28.8s\tremaining: 1m 26s\n",
            "20:\tlearn: 0.3111728\ttotal: 30.1s\tremaining: 1m 24s\n",
            "21:\tlearn: 0.3067569\ttotal: 31.4s\tremaining: 1m 22s\n",
            "22:\tlearn: 0.3030124\ttotal: 32.8s\tremaining: 1m 21s\n",
            "23:\tlearn: 0.3009686\ttotal: 33.7s\tremaining: 1m 18s\n",
            "24:\tlearn: 0.2972042\ttotal: 34.8s\tremaining: 1m 16s\n",
            "25:\tlearn: 0.2943206\ttotal: 35.9s\tremaining: 1m 14s\n",
            "26:\tlearn: 0.2936007\ttotal: 37.1s\tremaining: 1m 12s\n",
            "27:\tlearn: 0.2911547\ttotal: 38s\tremaining: 1m 10s\n",
            "28:\tlearn: 0.2900883\ttotal: 39s\tremaining: 1m 8s\n",
            "29:\tlearn: 0.2886456\ttotal: 40.1s\tremaining: 1m 6s\n",
            "30:\tlearn: 0.2879395\ttotal: 41s\tremaining: 1m 4s\n",
            "31:\tlearn: 0.2865038\ttotal: 42.1s\tremaining: 1m 3s\n",
            "32:\tlearn: 0.2804094\ttotal: 43.2s\tremaining: 1m 1s\n",
            "33:\tlearn: 0.2797619\ttotal: 44.1s\tremaining: 59.7s\n",
            "34:\tlearn: 0.2792131\ttotal: 45.1s\tremaining: 58s\n",
            "35:\tlearn: 0.2733677\ttotal: 46.5s\tremaining: 56.8s\n",
            "36:\tlearn: 0.2729335\ttotal: 47.4s\tremaining: 55.1s\n",
            "37:\tlearn: 0.2702689\ttotal: 48.5s\tremaining: 53.6s\n",
            "38:\tlearn: 0.2698081\ttotal: 49.6s\tremaining: 52.1s\n",
            "39:\tlearn: 0.2674746\ttotal: 50.8s\tremaining: 50.8s\n",
            "40:\tlearn: 0.2669947\ttotal: 51.8s\tremaining: 49.3s\n",
            "41:\tlearn: 0.2669479\ttotal: 52.7s\tremaining: 47.7s\n",
            "42:\tlearn: 0.2655767\ttotal: 53.9s\tremaining: 46.4s\n",
            "43:\tlearn: 0.2631008\ttotal: 54.9s\tremaining: 44.9s\n",
            "44:\tlearn: 0.2606287\ttotal: 56s\tremaining: 43.5s\n",
            "45:\tlearn: 0.2537272\ttotal: 57.3s\tremaining: 42.3s\n",
            "46:\tlearn: 0.2525976\ttotal: 58.2s\tremaining: 40.9s\n",
            "47:\tlearn: 0.2514948\ttotal: 59.5s\tremaining: 39.7s\n",
            "48:\tlearn: 0.2509414\ttotal: 1m\tremaining: 38.2s\n",
            "49:\tlearn: 0.2508990\ttotal: 1m 1s\tremaining: 36.8s\n",
            "50:\tlearn: 0.2508610\ttotal: 1m 2s\tremaining: 35.4s\n",
            "51:\tlearn: 0.2496154\ttotal: 1m 3s\tremaining: 34.1s\n",
            "52:\tlearn: 0.2488698\ttotal: 1m 4s\tremaining: 32.8s\n",
            "53:\tlearn: 0.2481953\ttotal: 1m 5s\tremaining: 31.5s\n",
            "54:\tlearn: 0.2471857\ttotal: 1m 6s\tremaining: 30.2s\n",
            "55:\tlearn: 0.2468802\ttotal: 1m 7s\tremaining: 28.9s\n",
            "56:\tlearn: 0.2461338\ttotal: 1m 8s\tremaining: 27.6s\n",
            "57:\tlearn: 0.2456937\ttotal: 1m 9s\tremaining: 26.3s\n",
            "58:\tlearn: 0.2427003\ttotal: 1m 10s\tremaining: 25.1s\n",
            "59:\tlearn: 0.2403152\ttotal: 1m 11s\tremaining: 24s\n",
            "60:\tlearn: 0.2402792\ttotal: 1m 12s\tremaining: 22.7s\n",
            "61:\tlearn: 0.2387182\ttotal: 1m 13s\tremaining: 21.4s\n",
            "62:\tlearn: 0.2371990\ttotal: 1m 14s\tremaining: 20.2s\n",
            "63:\tlearn: 0.2336138\ttotal: 1m 15s\tremaining: 19s\n",
            "64:\tlearn: 0.2329481\ttotal: 1m 17s\tremaining: 17.8s\n",
            "65:\tlearn: 0.2325295\ttotal: 1m 18s\tremaining: 16.6s\n",
            "66:\tlearn: 0.2324877\ttotal: 1m 18s\tremaining: 15.3s\n",
            "67:\tlearn: 0.2318954\ttotal: 1m 20s\tremaining: 14.1s\n",
            "68:\tlearn: 0.2305024\ttotal: 1m 21s\tremaining: 13s\n",
            "69:\tlearn: 0.2300116\ttotal: 1m 22s\tremaining: 11.7s\n",
            "70:\tlearn: 0.2287044\ttotal: 1m 23s\tremaining: 10.6s\n",
            "71:\tlearn: 0.2264806\ttotal: 1m 24s\tremaining: 9.41s\n",
            "72:\tlearn: 0.2257719\ttotal: 1m 25s\tremaining: 8.21s\n",
            "73:\tlearn: 0.2250884\ttotal: 1m 26s\tremaining: 7.04s\n",
            "74:\tlearn: 0.2235965\ttotal: 1m 27s\tremaining: 5.86s\n",
            "75:\tlearn: 0.2228904\ttotal: 1m 28s\tremaining: 4.68s\n",
            "76:\tlearn: 0.2226578\ttotal: 1m 29s\tremaining: 3.5s\n",
            "77:\tlearn: 0.2224357\ttotal: 1m 31s\tremaining: 2.33s\n",
            "78:\tlearn: 0.2220294\ttotal: 1m 32s\tremaining: 1.17s\n",
            "79:\tlearn: 0.2187109\ttotal: 1m 33s\tremaining: 0us\n"
          ]
        }
      ]
    },
    {
      "cell_type": "code",
      "source": [
        "plt.figure()\n",
        "plt.plot(learning_rates,Train_accuracies_learning_rate,label = \"Train accuracy\")\n",
        "plt.plot(learning_rates,Test_accuracies_learning_rate,label = \"Test accuracy\")\n",
        "plt.xlabel(\"learning rates\")\n",
        "plt.ylabel(\"accuracy\")\n",
        "plt.title(\"Catboost learning rates vs. accuracy\")\n",
        "plt.legend()"
      ],
      "metadata": {
        "colab": {
          "base_uri": "https://localhost:8080/",
          "height": 312
        },
        "id": "G7PtKSAdPhVW",
        "outputId": "05f4ccbe-0b09-4e0e-909a-f94b1e29efee"
      },
      "execution_count": null,
      "outputs": [
        {
          "output_type": "execute_result",
          "data": {
            "text/plain": [
              "<matplotlib.legend.Legend at 0x7f344b0de3d0>"
            ]
          },
          "metadata": {},
          "execution_count": 71
        },
        {
          "output_type": "display_data",
          "data": {
            "image/png": "[encoded data removed]",
            "text/plain": [
              "<Figure size 432x288 with 1 Axes>"
            ]
          },
          "metadata": {
            "needs_background": "light"
          }
        }
      ]
    },
    {
      "cell_type": "code",
      "source": [
        "for i in learning_rates:\n",
        "    print('Train accuracy {:.3f} and test accuracy {:.3f} at a learning rate: {}'.format(Train_accuracies_learning_rate[learning_rates.index(i)],Test_accuracies_learning_rate[learning_rates.index(i)], i))"
      ],
      "metadata": {
        "colab": {
          "base_uri": "https://localhost:8080/"
        },
        "id": "5f0JA4k6SREW",
        "outputId": "941282f8-c08b-4e0d-c284-17e6fc9bab7f"
      },
      "execution_count": null,
      "outputs": [
        {
          "output_type": "stream",
          "name": "stdout",
          "text": [
            "Train accuracy 0.678 and test accuracy 0.682 at a learning rate: 0.001\n",
            "Train accuracy 0.821 and test accuracy 0.828 at a learning rate: 0.01\n",
            "Train accuracy 0.937 and test accuracy 0.937 at a learning rate: 0.1\n",
            "Train accuracy 0.939 and test accuracy 0.934 at a learning rate: 1\n"
          ]
        }
      ]
    }
  ]
}